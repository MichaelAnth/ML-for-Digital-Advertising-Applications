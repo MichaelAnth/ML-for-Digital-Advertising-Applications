{
  "nbformat": 4,
  "nbformat_minor": 0,
  "metadata": {
    "colab": {
      "name": "Python_Exercise_4-Census_Reporter_for_Geographic_Selection",
      "provenance": [],
      "collapsed_sections": [],
      "include_colab_link": true
    },
    "kernelspec": {
      "name": "python3",
      "display_name": "Python 3"
    }
  },
  "cells": [
    {
      "cell_type": "markdown",
      "metadata": {
        "id": "view-in-github",
        "colab_type": "text"
      },
      "source": [
        "<a href=\"https://colab.research.google.com/github/MichaelAnth/ML-for-Digital-Advertising-Applications/blob/master/Python_Exercise_4_Census_Reporter_for_Geographic_Selection.ipynb\" target=\"_parent\"><img src=\"https://colab.research.google.com/assets/colab-badge.svg\" alt=\"Open In Colab\"/></a>"
      ]
    },
    {
      "cell_type": "markdown",
      "metadata": {
        "id": "9MQTqmgzSke2",
        "colab_type": "text"
      },
      "source": [
        "# Digital Advertising Python Exercise 4\n",
        "### **Author:** Michael Anthony\n",
        "### **Date:** December 2019\n",
        "### **Objective:** Use the Census Reporter API to make geographic selections for areas with demographic features of interest for the marketing of Ozo coffee products.\n"
      ]
    },
    {
      "cell_type": "markdown",
      "metadata": {
        "id": "wW0PYeIMUEkN",
        "colab_type": "text"
      },
      "source": [
        "# Document Setup and Loading Libraries"
      ]
    },
    {
      "cell_type": "code",
      "metadata": {
        "id": "VUQeRxk2qvX5",
        "colab_type": "code",
        "colab": {}
      },
      "source": [
        "import pandas as pd\n",
        "import pandas\n",
        "# sklearn.cross_validation was not importing train_test_split so the model\n",
        "# selection module is used instead\n",
        "from sklearn.model_selection import train_test_split\n",
        "from sklearn.linear_model import LassoLarsCV\n",
        "import matplotlib.pyplot as plt"
      ],
      "execution_count": 0,
      "outputs": []
    },
    {
      "cell_type": "markdown",
      "metadata": {
        "id": "RCEzqllf8ng7",
        "colab_type": "text"
      },
      "source": [
        "# Import and View Data"
      ]
    },
    {
      "cell_type": "code",
      "metadata": {
        "id": "Wkrm1Vav8GQE",
        "colab_type": "code",
        "outputId": "3bd2bb23-91eb-484e-8084-76fece6b9d0c",
        "colab": {
          "base_uri": "https://localhost:8080/",
          "height": 203
        }
      },
      "source": [
        "# Load Data\n",
        "DATA_URL = 'https://s3.amazonaws.com/vargo.aprd6342/data/msas.csv'\n",
        "df = pd.read_csv(DATA_URL)\n",
        "# view data frame\n",
        "df.head()"
      ],
      "execution_count": 175,
      "outputs": [
        {
          "output_type": "execute_result",
          "data": {
            "text/html": [
              "<div>\n",
              "<style scoped>\n",
              "    .dataframe tbody tr th:only-of-type {\n",
              "        vertical-align: middle;\n",
              "    }\n",
              "\n",
              "    .dataframe tbody tr th {\n",
              "        vertical-align: top;\n",
              "    }\n",
              "\n",
              "    .dataframe thead th {\n",
              "        text-align: right;\n",
              "    }\n",
              "</style>\n",
              "<table border=\"1\" class=\"dataframe\">\n",
              "  <thead>\n",
              "    <tr style=\"text-align: right;\">\n",
              "      <th></th>\n",
              "      <th>CBSA</th>\n",
              "      <th>NAME</th>\n",
              "      <th>POPESTIMATE2017</th>\n",
              "    </tr>\n",
              "  </thead>\n",
              "  <tbody>\n",
              "    <tr>\n",
              "      <th>0</th>\n",
              "      <td>10180</td>\n",
              "      <td>Abilene, TX</td>\n",
              "      <td>170219</td>\n",
              "    </tr>\n",
              "    <tr>\n",
              "      <th>1</th>\n",
              "      <td>10420</td>\n",
              "      <td>Akron, OH</td>\n",
              "      <td>703505</td>\n",
              "    </tr>\n",
              "    <tr>\n",
              "      <th>2</th>\n",
              "      <td>10500</td>\n",
              "      <td>Albany, GA</td>\n",
              "      <td>151434</td>\n",
              "    </tr>\n",
              "    <tr>\n",
              "      <th>3</th>\n",
              "      <td>10540</td>\n",
              "      <td>Albany, OR</td>\n",
              "      <td>125047</td>\n",
              "    </tr>\n",
              "    <tr>\n",
              "      <th>4</th>\n",
              "      <td>10580</td>\n",
              "      <td>Albany-Schenectady-Troy, NY</td>\n",
              "      <td>886188</td>\n",
              "    </tr>\n",
              "  </tbody>\n",
              "</table>\n",
              "</div>"
            ],
            "text/plain": [
              "    CBSA                         NAME  POPESTIMATE2017\n",
              "0  10180                  Abilene, TX           170219\n",
              "1  10420                    Akron, OH           703505\n",
              "2  10500                   Albany, GA           151434\n",
              "3  10540                   Albany, OR           125047\n",
              "4  10580  Albany-Schenectady-Troy, NY           886188"
            ]
          },
          "metadata": {
            "tags": []
          },
          "execution_count": 175
        }
      ]
    },
    {
      "cell_type": "markdown",
      "metadata": {
        "id": "UWJi8j2IYOIo",
        "colab_type": "text"
      },
      "source": [
        "Lets view the 10 US metro areas with the greatest population."
      ]
    },
    {
      "cell_type": "code",
      "metadata": {
        "id": "UOHGUqozYGL9",
        "colab_type": "code",
        "outputId": "2df8e9f9-fdea-4586-82ea-d1e125cac36a",
        "colab": {
          "base_uri": "https://localhost:8080/",
          "height": 172
        }
      },
      "source": [
        "df.sort_values(by=['POPESTIMATE2017'],ascending=False).head(4)"
      ],
      "execution_count": 176,
      "outputs": [
        {
          "output_type": "execute_result",
          "data": {
            "text/html": [
              "<div>\n",
              "<style scoped>\n",
              "    .dataframe tbody tr th:only-of-type {\n",
              "        vertical-align: middle;\n",
              "    }\n",
              "\n",
              "    .dataframe tbody tr th {\n",
              "        vertical-align: top;\n",
              "    }\n",
              "\n",
              "    .dataframe thead th {\n",
              "        text-align: right;\n",
              "    }\n",
              "</style>\n",
              "<table border=\"1\" class=\"dataframe\">\n",
              "  <thead>\n",
              "    <tr style=\"text-align: right;\">\n",
              "      <th></th>\n",
              "      <th>CBSA</th>\n",
              "      <th>NAME</th>\n",
              "      <th>POPESTIMATE2017</th>\n",
              "    </tr>\n",
              "  </thead>\n",
              "  <tbody>\n",
              "    <tr>\n",
              "      <th>249</th>\n",
              "      <td>35620</td>\n",
              "      <td>New York-Newark-Jersey City, NY-NJ-PA</td>\n",
              "      <td>20320876</td>\n",
              "    </tr>\n",
              "    <tr>\n",
              "      <th>210</th>\n",
              "      <td>31080</td>\n",
              "      <td>Los Angeles-Long Beach-Anaheim, CA</td>\n",
              "      <td>13353907</td>\n",
              "    </tr>\n",
              "    <tr>\n",
              "      <th>68</th>\n",
              "      <td>16980</td>\n",
              "      <td>Chicago-Naperville-Elgin, IL-IN-WI</td>\n",
              "      <td>9533040</td>\n",
              "    </tr>\n",
              "    <tr>\n",
              "      <th>86</th>\n",
              "      <td>19100</td>\n",
              "      <td>Dallas-Fort Worth-Arlington, TX</td>\n",
              "      <td>7399662</td>\n",
              "    </tr>\n",
              "  </tbody>\n",
              "</table>\n",
              "</div>"
            ],
            "text/plain": [
              "      CBSA                                   NAME  POPESTIMATE2017\n",
              "249  35620  New York-Newark-Jersey City, NY-NJ-PA         20320876\n",
              "210  31080     Los Angeles-Long Beach-Anaheim, CA         13353907\n",
              "68   16980     Chicago-Naperville-Elgin, IL-IN-WI          9533040\n",
              "86   19100        Dallas-Fort Worth-Arlington, TX          7399662"
            ]
          },
          "metadata": {
            "tags": []
          },
          "execution_count": 176
        }
      ]
    },
    {
      "cell_type": "markdown",
      "metadata": {
        "id": "EqxIiBGM8rXI",
        "colab_type": "text"
      },
      "source": [
        "#Demographics of interest\n",
        "Based on a published market analysis of premium coffee drinker preferences we can draw a few key insights. The first is that high socio-economic status (SES) consumers particularly care about the taste of their coffee and are looking for superior taste when choosing to purchase premium brands. Although we can assume our Ozo coffee has a superior taste, the dominant diferentiator for Ozo is that it is organic. This quality is most appealing for the second highest income bracket in our analysis, **50-75k**. Hence, we should target cities where the proportion of the population in this income bracket is higher than in other cities.\n",
        "\n",
        "Our product is organic and contains no artificial ingredients which are appealing qualities for **18-34** year old. Hence we should look for areas where the proportion of the population in the 18 to 34 age range is particularly high.\n",
        "\n",
        "Next, we notice that these apeals to healthy and environmental friendly products are particularly relevant for hispanic populations, hence we may target cities where there is a particularly **large hispanic population**."
      ]
    },
    {
      "cell_type": "markdown",
      "metadata": {
        "id": "q4J-0UP8Yv28",
        "colab_type": "text"
      },
      "source": [
        "# Deterine the Target Tables\n",
        "We must determine which data sets to pull from census reporter.\n",
        "1. For the proportion of the population in each income bracket: Table **B19001**.\n",
        "2. For a breakdown of population by age group: Table **B01001**\n",
        "3. For the proportion of the population that is hispanic: Table **B03002** \n"
      ]
    },
    {
      "cell_type": "code",
      "metadata": {
        "id": "VOEwFS_g8l4_",
        "colab_type": "code",
        "colab": {}
      },
      "source": [
        "tableids = ['B19001', 'B01001', 'B03002']"
      ],
      "execution_count": 0,
      "outputs": []
    },
    {
      "cell_type": "code",
      "metadata": {
        "id": "XD1wLN9KjNRt",
        "colab_type": "code",
        "outputId": "f837711b-4203-4ccc-be40-e1593aab605e",
        "colab": {
          "base_uri": "https://localhost:8080/",
          "height": 34
        }
      },
      "source": [
        "geoid = '31000US' + df['CBSA'].astype(str)\n",
        "df['geoid'] = geoid\n",
        "geoid=list(geoid)\n",
        "print(geoid[0:5])"
      ],
      "execution_count": 178,
      "outputs": [
        {
          "output_type": "stream",
          "text": [
            "['31000US10180', '31000US10420', '31000US10500', '31000US10540', '31000US10580']\n"
          ],
          "name": "stdout"
        }
      ]
    },
    {
      "cell_type": "code",
      "metadata": {
        "id": "LeKJ2HIicwNn",
        "colab_type": "code",
        "colab": {}
      },
      "source": [
        "## get the data for each parameter of interest as a separate url\n",
        "# url_list=[]\n",
        "# for i in tableids:\n",
        "#     for j in geoid:\n",
        "#         tablestring=str(i)\n",
        "#         geographytag=str(j)\n",
        "#         requesturl = 'https://api.censusreporter.org/1.0/data/show/latest?table_ids=%s&geo_ids=310|01000US' % (tablestring, geographytag)\n",
        "#         url_list.append(requesturl)\n",
        "# print(url_list)\n"
      ],
      "execution_count": 0,
      "outputs": []
    },
    {
      "cell_type": "code",
      "metadata": {
        "id": "6iBiuYwedkxL",
        "colab_type": "code",
        "outputId": "ec085438-ac28-4f24-eec9-9890a9e8fbe0",
        "colab": {
          "base_uri": "https://localhost:8080/",
          "height": 34
        }
      },
      "source": [
        "# Or we can get the data for all our paramaters with one url\n",
        "concat_tableid_string = ','.join(tableids)\n",
        "requested_url = 'https://api.censusreporter.org/1.0/data/show/latest?table_ids=%s&geo_ids=310|01000US' % concat_tableid_string\n",
        "print(requested_url)"
      ],
      "execution_count": 179,
      "outputs": [
        {
          "output_type": "stream",
          "text": [
            "https://api.censusreporter.org/1.0/data/show/latest?table_ids=B19001,B01001,B03002&geo_ids=310|01000US\n"
          ],
          "name": "stdout"
        }
      ]
    },
    {
      "cell_type": "code",
      "metadata": {
        "id": "jsY_ynP6eHQp",
        "colab_type": "code",
        "colab": {}
      },
      "source": [
        "import requests \n",
        "import json\n",
        "loadedjson = requests.get(requested_url)\n",
        "parsedjson = loadedjson.json()"
      ],
      "execution_count": 0,
      "outputs": []
    },
    {
      "cell_type": "code",
      "metadata": {
        "id": "sHoRJE2ufmkg",
        "colab_type": "code",
        "outputId": "dff263ed-ef48-4d0b-c91e-530dadc7b387",
        "colab": {
          "base_uri": "https://localhost:8080/",
          "height": 34
        }
      },
      "source": [
        "#view the keys of the json dictionary to see how the data is organized\n",
        "parsedjson.keys()"
      ],
      "execution_count": 181,
      "outputs": [
        {
          "output_type": "execute_result",
          "data": {
            "text/plain": [
              "dict_keys(['release', 'tables', 'data', 'geography'])"
            ]
          },
          "metadata": {
            "tags": []
          },
          "execution_count": 181
        }
      ]
    },
    {
      "cell_type": "code",
      "metadata": {
        "id": "e5lPNWB7mYj6",
        "colab_type": "code",
        "colab": {}
      },
      "source": [
        "## View the structure of the dictionary to find the nessesary values\n",
        "#parsedjson"
      ],
      "execution_count": 0,
      "outputs": []
    },
    {
      "cell_type": "code",
      "metadata": {
        "id": "ow2-Fg5qg3ph",
        "colab_type": "code",
        "outputId": "b7f2307f-1191-4112-c11a-6f8662ea84e8",
        "colab": {
          "base_uri": "https://localhost:8080/",
          "height": 71
        }
      },
      "source": [
        "# print(parsedjson['31000US10180'])\n",
        "print(parsedjson.get('tables')['B03002'])\n",
        "# print(parsedjson.get('data')['estimate'])\n",
        "parsedjson['data']['31000US10180']['B01001']['estimate']['B01001001']"
      ],
      "execution_count": 183,
      "outputs": [
        {
          "output_type": "stream",
          "text": [
            "{'title': 'Hispanic or Latino Origin by Race', 'universe': 'Total Population', 'denominator_column_id': 'B03002001', 'columns': {'B03002001': {'name': 'Total:', 'indent': 0}, 'B03002002': {'name': 'Not Hispanic or Latino:', 'indent': 1}, 'B03002003': {'name': 'White alone', 'indent': 2}, 'B03002004': {'name': 'Black or African American alone', 'indent': 2}, 'B03002005': {'name': 'American Indian and Alaska Native alone', 'indent': 2}, 'B03002006': {'name': 'Asian alone', 'indent': 2}, 'B03002007': {'name': 'Native Hawaiian and Other Pacific Islander alone', 'indent': 2}, 'B03002008': {'name': 'Some other race alone', 'indent': 2}, 'B03002009': {'name': 'Two or more races:', 'indent': 2}, 'B03002010': {'name': 'Two races including Some other race', 'indent': 3}, 'B03002011': {'name': 'Two races excluding Some other race, and three or more races', 'indent': 3}, 'B03002012': {'name': 'Hispanic or Latino:', 'indent': 1}, 'B03002013': {'name': 'White alone', 'indent': 2}, 'B03002014': {'name': 'Black or African American alone', 'indent': 2}, 'B03002015': {'name': 'American Indian and Alaska Native alone', 'indent': 2}, 'B03002016': {'name': 'Asian alone', 'indent': 2}, 'B03002017': {'name': 'Native Hawaiian and Other Pacific Islander alone', 'indent': 2}, 'B03002018': {'name': 'Some other race alone', 'indent': 2}, 'B03002019': {'name': 'Two or more races:', 'indent': 2}, 'B03002020': {'name': 'Two races including Some other race', 'indent': 3}, 'B03002021': {'name': 'Two races excluding Some other race, and three or more races', 'indent': 3}}}\n"
          ],
          "name": "stdout"
        },
        {
          "output_type": "execute_result",
          "data": {
            "text/plain": [
              "169000.0"
            ]
          },
          "metadata": {
            "tags": []
          },
          "execution_count": 183
        }
      ]
    },
    {
      "cell_type": "markdown",
      "metadata": {
        "id": "On4n3i9Lefml",
        "colab_type": "text"
      },
      "source": [
        "#Variables of interest\n",
        "\n",
        "1. income: **50-75k**. \n",
        "\n",
        "2. age: **18-34**\n",
        "\n",
        "3. ethnicity: **large hispanic population**.\n",
        "\n",
        "\n",
        "To find the city with the largest total target population, we want to take the sum of the sub populations of interest and find the city with the largest in market audience. We begin by identify the tables containing the subpopulation data we are interested in aggregating."
      ]
    },
    {
      "cell_type": "code",
      "metadata": {
        "id": "2ukSrEtIekXh",
        "colab_type": "code",
        "colab": {}
      },
      "source": [
        "# population size by Age tables:\n",
        "    #male\n",
        "    # 'B01001007': {'indent': 2, 'name': '18 and 19 years'},\n",
        "    # 'B01001008': {'indent': 2, 'name': '20 years'},\n",
        "    # 'B01001009': {'indent': 2, 'name': '21 years'},\n",
        "    # 'B01001010': {'indent': 2, 'name': '22 to 24 years'},\n",
        "    # 'B01001011': {'indent': 2, 'name': '25 to 29 years'},\n",
        "    # 'B01001012': {'indent': 2, 'name': '30 to 34 years'},\n",
        "    #female\n",
        "    # 'B01001031': {'indent': 2, 'name': '18 and 19 years'},\n",
        "    # 'B01001032': {'indent': 2, 'name': '20 years'},\n",
        "    # 'B01001033': {'indent': 2, 'name': '21 years'},\n",
        "    # 'B01001034': {'indent': 2, 'name': '22 to 24 years'},\n",
        "    # 'B01001035': {'indent': 2, 'name': '25 to 29 years'},\n",
        "    # 'B01001036': {'indent': 2, 'name': '30 to 34 years'},\n",
        "# Hispanic Population Size \n",
        "    # 'B03002012': {'indent': 1, 'name': 'Hispanic or Latino:'}\n",
        "# Population size by Income Bracket\n",
        "    # 'B19001011': {'indent': 1, 'name': '$50,000 to $59,999'},\n",
        "    # 'B19001012': {'indent': 1, 'name': '$60,000 to $74,999'},"
      ],
      "execution_count": 0,
      "outputs": []
    },
    {
      "cell_type": "code",
      "metadata": {
        "id": "dFXo9W55cinP",
        "colab_type": "code",
        "outputId": "0d148209-1c62-4771-c1b6-35a824e354f6",
        "colab": {
          "base_uri": "https://localhost:8080/",
          "height": 103
        }
      },
      "source": [
        "# initialize variables\n",
        "income_list=[]\n",
        "income_target_pop_size=0\n",
        "\n",
        "age_list=[]\n",
        "age_target_pop_size=0\n",
        "\n",
        "hispanic_list=[]\n",
        "hispanic_pop_target_size=0\n",
        "\n",
        "metro_area_name_list=[]\n",
        "metro_area_total_population=[]\n",
        "\n",
        "#iterate through geoids and sum populations of interest.\n",
        "for i in geoid:\n",
        "    #record metro area name in a list\n",
        "    metro_area_name_list.append(parsedjson['geography'][i]['name'])\n",
        "    # aggregate age data by geoid\n",
        "    age_target_pop_size=0\n",
        "    for j in range(6):\n",
        "        age_target_pop_size+=( #male tables\n",
        "            parsedjson['data'][i]['B01001']['estimate']['B01001007']+\n",
        "            parsedjson['data'][i]['B01001']['estimate']['B01001008']+\n",
        "            parsedjson['data'][i]['B01001']['estimate']['B01001008']+\n",
        "            parsedjson['data'][i]['B01001']['estimate']['B01001009']+\n",
        "            parsedjson['data'][i]['B01001']['estimate']['B01001010']+\n",
        "            parsedjson['data'][i]['B01001']['estimate']['B01001011']+\n",
        "            parsedjson['data'][i]['B01001']['estimate']['B01001012']+\n",
        "            # female tables \n",
        "            parsedjson['data'][i]['B01001']['estimate']['%s'%('B010010'+str(31+j))]\n",
        "            )\n",
        "    age_list.append(age_target_pop_size)\n",
        "\n",
        "    # aggregate hispanic population data by geoid\n",
        "    hispanic_pop_target_size=(\n",
        "        parsedjson['data'][i]['B03002']['estimate']['B03002012']\n",
        "        )\n",
        "    hispanic_list.append(hispanic_pop_target_size)\n",
        "    hispanic_pop_target_size=0\n",
        "\n",
        "    # aggregate income bracket population data by geoid\n",
        "    income_target_pop_size=(\n",
        "        parsedjson['data'][i]['B19001']['estimate']['B19001011']+\n",
        "        parsedjson['data'][i]['B19001']['estimate']['B19001012']\n",
        "        )\n",
        "    income_list.append(income_target_pop_size)\n",
        "    income_target_pop_size=0\n",
        "\n",
        "    #Add the metro area toal population to the list\n",
        "    metro_area_total_population.append(parsedjson['data'][i]['B01001']['estimate']['B01001001'])\n",
        "\n",
        "print(metro_area_name_list[0:5])\n",
        "print(age_list[0:5])\n",
        "print(hispanic_list[0:5])\n",
        "print(income_list[0:5]) \n",
        "print(metro_area_total_population[0:5])"
      ],
      "execution_count": 185,
      "outputs": [
        {
          "output_type": "stream",
          "text": [
            "['Abilene, TX Metro Area', 'Akron, OH Metro Area', 'Albany, GA Metro Area', 'Albany, OR Metro Area', 'Albany-Schenectady-Troy, NY Metro Area']\n",
            "[183792.0, 603500.0, 131300.0, 94602.0, 796467.0]\n",
            "[38892.0, 13318.0, 4057.0, 10483.0, 42999.0]\n",
            "[11570.0, 52446.0, 9529.0, 9273.0, 62094.0]\n",
            "[169000.0, 703398.0, 153776.0, 121074.0, 881862.0]\n"
          ],
          "name": "stdout"
        }
      ]
    },
    {
      "cell_type": "code",
      "metadata": {
        "id": "YaEevEaaHptB",
        "colab_type": "code",
        "outputId": "599b59c6-c23e-4638-a3e5-025406725444",
        "colab": {
          "base_uri": "https://localhost:8080/",
          "height": 172
        }
      },
      "source": [
        "df=pd.DataFrame()\n",
        "df['metro_area']=metro_area_name_list\n",
        "df['PARAM1_pop_in_target_income']=income_list\n",
        "df['PARAM2_pop_in_target_age']=age_list\n",
        "df['PARAM3_pop_hispanic']=hispanic_list\n",
        "df['metro_area_total_pop']=metro_area_total_population\n",
        "df.head(4)"
      ],
      "execution_count": 186,
      "outputs": [
        {
          "output_type": "execute_result",
          "data": {
            "text/html": [
              "<div>\n",
              "<style scoped>\n",
              "    .dataframe tbody tr th:only-of-type {\n",
              "        vertical-align: middle;\n",
              "    }\n",
              "\n",
              "    .dataframe tbody tr th {\n",
              "        vertical-align: top;\n",
              "    }\n",
              "\n",
              "    .dataframe thead th {\n",
              "        text-align: right;\n",
              "    }\n",
              "</style>\n",
              "<table border=\"1\" class=\"dataframe\">\n",
              "  <thead>\n",
              "    <tr style=\"text-align: right;\">\n",
              "      <th></th>\n",
              "      <th>metro_area</th>\n",
              "      <th>PARAM1_pop_in_target_income</th>\n",
              "      <th>PARAM2_pop_in_target_age</th>\n",
              "      <th>PARAM3_pop_hispanic</th>\n",
              "      <th>metro_area_total_pop</th>\n",
              "    </tr>\n",
              "  </thead>\n",
              "  <tbody>\n",
              "    <tr>\n",
              "      <th>0</th>\n",
              "      <td>Abilene, TX Metro Area</td>\n",
              "      <td>11570.0</td>\n",
              "      <td>183792.0</td>\n",
              "      <td>38892.0</td>\n",
              "      <td>169000.0</td>\n",
              "    </tr>\n",
              "    <tr>\n",
              "      <th>1</th>\n",
              "      <td>Akron, OH Metro Area</td>\n",
              "      <td>52446.0</td>\n",
              "      <td>603500.0</td>\n",
              "      <td>13318.0</td>\n",
              "      <td>703398.0</td>\n",
              "    </tr>\n",
              "    <tr>\n",
              "      <th>2</th>\n",
              "      <td>Albany, GA Metro Area</td>\n",
              "      <td>9529.0</td>\n",
              "      <td>131300.0</td>\n",
              "      <td>4057.0</td>\n",
              "      <td>153776.0</td>\n",
              "    </tr>\n",
              "    <tr>\n",
              "      <th>3</th>\n",
              "      <td>Albany, OR Metro Area</td>\n",
              "      <td>9273.0</td>\n",
              "      <td>94602.0</td>\n",
              "      <td>10483.0</td>\n",
              "      <td>121074.0</td>\n",
              "    </tr>\n",
              "  </tbody>\n",
              "</table>\n",
              "</div>"
            ],
            "text/plain": [
              "               metro_area  ...  metro_area_total_pop\n",
              "0  Abilene, TX Metro Area  ...              169000.0\n",
              "1    Akron, OH Metro Area  ...              703398.0\n",
              "2   Albany, GA Metro Area  ...              153776.0\n",
              "3   Albany, OR Metro Area  ...              121074.0\n",
              "\n",
              "[4 rows x 5 columns]"
            ]
          },
          "metadata": {
            "tags": []
          },
          "execution_count": 186
        }
      ]
    },
    {
      "cell_type": "markdown",
      "metadata": {
        "id": "ANmRRz1hJ94W",
        "colab_type": "text"
      },
      "source": [
        "#Question 1: City with the Highest Population in our Target Income"
      ]
    },
    {
      "cell_type": "code",
      "metadata": {
        "id": "6VJQfnqPIwOy",
        "colab_type": "code",
        "outputId": "81967c38-fab2-48e8-d6cf-2e8b3731f076",
        "colab": {
          "base_uri": "https://localhost:8080/",
          "height": 79
        }
      },
      "source": [
        "df.sort_values(by=['PARAM1_pop_in_target_income'],ascending=False).head(1)"
      ],
      "execution_count": 187,
      "outputs": [
        {
          "output_type": "execute_result",
          "data": {
            "text/html": [
              "<div>\n",
              "<style scoped>\n",
              "    .dataframe tbody tr th:only-of-type {\n",
              "        vertical-align: middle;\n",
              "    }\n",
              "\n",
              "    .dataframe tbody tr th {\n",
              "        vertical-align: top;\n",
              "    }\n",
              "\n",
              "    .dataframe thead th {\n",
              "        text-align: right;\n",
              "    }\n",
              "</style>\n",
              "<table border=\"1\" class=\"dataframe\">\n",
              "  <thead>\n",
              "    <tr style=\"text-align: right;\">\n",
              "      <th></th>\n",
              "      <th>metro_area</th>\n",
              "      <th>PARAM1_pop_in_target_income</th>\n",
              "      <th>PARAM2_pop_in_target_age</th>\n",
              "      <th>PARAM3_pop_hispanic</th>\n",
              "      <th>metro_area_total_pop</th>\n",
              "    </tr>\n",
              "  </thead>\n",
              "  <tbody>\n",
              "    <tr>\n",
              "      <th>249</th>\n",
              "      <td>New York-Newark-Jersey City, NY-NJ-PA Metro Area</td>\n",
              "      <td>1050888.0</td>\n",
              "      <td>17561652.0</td>\n",
              "      <td>4863602.0</td>\n",
              "      <td>20192042.0</td>\n",
              "    </tr>\n",
              "  </tbody>\n",
              "</table>\n",
              "</div>"
            ],
            "text/plain": [
              "                                           metro_area  ...  metro_area_total_pop\n",
              "249  New York-Newark-Jersey City, NY-NJ-PA Metro Area  ...            20192042.0\n",
              "\n",
              "[1 rows x 5 columns]"
            ]
          },
          "metadata": {
            "tags": []
          },
          "execution_count": 187
        }
      ]
    },
    {
      "cell_type": "markdown",
      "metadata": {
        "id": "SHOU3qFqKJ00",
        "colab_type": "text"
      },
      "source": [
        "#Question 2: City with the Highest Population in our Target Age Range"
      ]
    },
    {
      "cell_type": "code",
      "metadata": {
        "id": "uN38CNlHJecJ",
        "colab_type": "code",
        "outputId": "26a19434-bc03-4111-df60-73878b734f55",
        "colab": {
          "base_uri": "https://localhost:8080/",
          "height": 79
        }
      },
      "source": [
        "df.sort_values(by=['PARAM2_pop_in_target_age'],ascending=False).head(1)"
      ],
      "execution_count": 188,
      "outputs": [
        {
          "output_type": "execute_result",
          "data": {
            "text/html": [
              "<div>\n",
              "<style scoped>\n",
              "    .dataframe tbody tr th:only-of-type {\n",
              "        vertical-align: middle;\n",
              "    }\n",
              "\n",
              "    .dataframe tbody tr th {\n",
              "        vertical-align: top;\n",
              "    }\n",
              "\n",
              "    .dataframe thead th {\n",
              "        text-align: right;\n",
              "    }\n",
              "</style>\n",
              "<table border=\"1\" class=\"dataframe\">\n",
              "  <thead>\n",
              "    <tr style=\"text-align: right;\">\n",
              "      <th></th>\n",
              "      <th>metro_area</th>\n",
              "      <th>PARAM1_pop_in_target_income</th>\n",
              "      <th>PARAM2_pop_in_target_age</th>\n",
              "      <th>PARAM3_pop_hispanic</th>\n",
              "      <th>metro_area_total_pop</th>\n",
              "    </tr>\n",
              "  </thead>\n",
              "  <tbody>\n",
              "    <tr>\n",
              "      <th>249</th>\n",
              "      <td>New York-Newark-Jersey City, NY-NJ-PA Metro Area</td>\n",
              "      <td>1050888.0</td>\n",
              "      <td>17561652.0</td>\n",
              "      <td>4863602.0</td>\n",
              "      <td>20192042.0</td>\n",
              "    </tr>\n",
              "  </tbody>\n",
              "</table>\n",
              "</div>"
            ],
            "text/plain": [
              "                                           metro_area  ...  metro_area_total_pop\n",
              "249  New York-Newark-Jersey City, NY-NJ-PA Metro Area  ...            20192042.0\n",
              "\n",
              "[1 rows x 5 columns]"
            ]
          },
          "metadata": {
            "tags": []
          },
          "execution_count": 188
        }
      ]
    },
    {
      "cell_type": "markdown",
      "metadata": {
        "id": "bXMhNS6WKTXB",
        "colab_type": "text"
      },
      "source": [
        "#Question 3: City with the Highest Hispanic Population"
      ]
    },
    {
      "cell_type": "code",
      "metadata": {
        "id": "1bduaOeyKXwL",
        "colab_type": "code",
        "outputId": "8aab6f2b-aa3e-4a58-cf53-e3d3ad4dc1be",
        "colab": {
          "base_uri": "https://localhost:8080/",
          "height": 79
        }
      },
      "source": [
        "df.sort_values(by=['PARAM3_pop_hispanic'],ascending=False).head(1)"
      ],
      "execution_count": 189,
      "outputs": [
        {
          "output_type": "execute_result",
          "data": {
            "text/html": [
              "<div>\n",
              "<style scoped>\n",
              "    .dataframe tbody tr th:only-of-type {\n",
              "        vertical-align: middle;\n",
              "    }\n",
              "\n",
              "    .dataframe tbody tr th {\n",
              "        vertical-align: top;\n",
              "    }\n",
              "\n",
              "    .dataframe thead th {\n",
              "        text-align: right;\n",
              "    }\n",
              "</style>\n",
              "<table border=\"1\" class=\"dataframe\">\n",
              "  <thead>\n",
              "    <tr style=\"text-align: right;\">\n",
              "      <th></th>\n",
              "      <th>metro_area</th>\n",
              "      <th>PARAM1_pop_in_target_income</th>\n",
              "      <th>PARAM2_pop_in_target_age</th>\n",
              "      <th>PARAM3_pop_hispanic</th>\n",
              "      <th>metro_area_total_pop</th>\n",
              "    </tr>\n",
              "  </thead>\n",
              "  <tbody>\n",
              "    <tr>\n",
              "      <th>210</th>\n",
              "      <td>Los Angeles-Long Beach-Anaheim, CA Metro Area</td>\n",
              "      <td>700681.0</td>\n",
              "      <td>12585318.0</td>\n",
              "      <td>5972751.0</td>\n",
              "      <td>13261538.0</td>\n",
              "    </tr>\n",
              "  </tbody>\n",
              "</table>\n",
              "</div>"
            ],
            "text/plain": [
              "                                        metro_area  ...  metro_area_total_pop\n",
              "210  Los Angeles-Long Beach-Anaheim, CA Metro Area  ...            13261538.0\n",
              "\n",
              "[1 rows x 5 columns]"
            ]
          },
          "metadata": {
            "tags": []
          },
          "execution_count": 189
        }
      ]
    },
    {
      "cell_type": "markdown",
      "metadata": {
        "id": "pKb5Kt9kzcrR",
        "colab_type": "text"
      },
      "source": [
        "# Calculate the proportion of the population reperesented by our target demographics"
      ]
    },
    {
      "cell_type": "code",
      "metadata": {
        "id": "6wlr0B0LlYGZ",
        "colab_type": "code",
        "outputId": "93e7ee40-da2a-4544-e929-7e64a66f9bf0",
        "colab": {
          "base_uri": "https://localhost:8080/",
          "height": 141
        }
      },
      "source": [
        "# we calculate the proportion of the population represented by our target market\n",
        "# by didviding our target market population total by the metro area population\n",
        "# we do this for each of our targeting parameters\n",
        "df['income_percent']=df['PARAM1_pop_in_target_income']/df['metro_area_total_pop']\n",
        "df['age_percent']=df['PARAM2_pop_in_target_age']/df['metro_area_total_pop']\n",
        "df['hispanic_percent']=df['PARAM3_pop_hispanic']/df['metro_area_total_pop']\n",
        "# We print out this data to view the results\n",
        "df.head(3)"
      ],
      "execution_count": 190,
      "outputs": [
        {
          "output_type": "execute_result",
          "data": {
            "text/html": [
              "<div>\n",
              "<style scoped>\n",
              "    .dataframe tbody tr th:only-of-type {\n",
              "        vertical-align: middle;\n",
              "    }\n",
              "\n",
              "    .dataframe tbody tr th {\n",
              "        vertical-align: top;\n",
              "    }\n",
              "\n",
              "    .dataframe thead th {\n",
              "        text-align: right;\n",
              "    }\n",
              "</style>\n",
              "<table border=\"1\" class=\"dataframe\">\n",
              "  <thead>\n",
              "    <tr style=\"text-align: right;\">\n",
              "      <th></th>\n",
              "      <th>metro_area</th>\n",
              "      <th>PARAM1_pop_in_target_income</th>\n",
              "      <th>PARAM2_pop_in_target_age</th>\n",
              "      <th>PARAM3_pop_hispanic</th>\n",
              "      <th>metro_area_total_pop</th>\n",
              "      <th>income_percent</th>\n",
              "      <th>age_percent</th>\n",
              "      <th>hispanic_percent</th>\n",
              "    </tr>\n",
              "  </thead>\n",
              "  <tbody>\n",
              "    <tr>\n",
              "      <th>0</th>\n",
              "      <td>Abilene, TX Metro Area</td>\n",
              "      <td>11570.0</td>\n",
              "      <td>183792.0</td>\n",
              "      <td>38892.0</td>\n",
              "      <td>169000.0</td>\n",
              "      <td>0.068462</td>\n",
              "      <td>1.087527</td>\n",
              "      <td>0.230130</td>\n",
              "    </tr>\n",
              "    <tr>\n",
              "      <th>1</th>\n",
              "      <td>Akron, OH Metro Area</td>\n",
              "      <td>52446.0</td>\n",
              "      <td>603500.0</td>\n",
              "      <td>13318.0</td>\n",
              "      <td>703398.0</td>\n",
              "      <td>0.074561</td>\n",
              "      <td>0.857978</td>\n",
              "      <td>0.018934</td>\n",
              "    </tr>\n",
              "    <tr>\n",
              "      <th>2</th>\n",
              "      <td>Albany, GA Metro Area</td>\n",
              "      <td>9529.0</td>\n",
              "      <td>131300.0</td>\n",
              "      <td>4057.0</td>\n",
              "      <td>153776.0</td>\n",
              "      <td>0.061967</td>\n",
              "      <td>0.853839</td>\n",
              "      <td>0.026383</td>\n",
              "    </tr>\n",
              "  </tbody>\n",
              "</table>\n",
              "</div>"
            ],
            "text/plain": [
              "               metro_area  ...  hispanic_percent\n",
              "0  Abilene, TX Metro Area  ...          0.230130\n",
              "1    Akron, OH Metro Area  ...          0.018934\n",
              "2   Albany, GA Metro Area  ...          0.026383\n",
              "\n",
              "[3 rows x 8 columns]"
            ]
          },
          "metadata": {
            "tags": []
          },
          "execution_count": 190
        }
      ]
    },
    {
      "cell_type": "code",
      "metadata": {
        "id": "EKsEGYx0y5P3",
        "colab_type": "code",
        "outputId": "cd52f428-668e-4ef0-e5cf-46946df5b372",
        "colab": {
          "base_uri": "https://localhost:8080/",
          "height": 193
        }
      },
      "source": [
        "# We notice that some of the percentages are incorrect as they are greater that 1 (more than 100%);\n",
        "# Therefore, we subset the data so we only include metro areas where the proportions are acurate (where the proportions are <=1)\n",
        "df=df[df['income_percent']<=1]\n",
        "df=df[df['age_percent']<=1]\n",
        "df=df[df['hispanic_percent']<=1]\n",
        "\n",
        "# Finally, we can create a column with our mean percentage across all three categories \n",
        "# using a simple average of the three proportion columns we just created.\n",
        "df['mean_target_percent']=(df['income_percent']+df['age_percent']+df['hispanic_percent'])/3\n",
        "\n",
        "## View the edited data frame\n",
        "df.head(3)"
      ],
      "execution_count": 191,
      "outputs": [
        {
          "output_type": "execute_result",
          "data": {
            "text/html": [
              "<div>\n",
              "<style scoped>\n",
              "    .dataframe tbody tr th:only-of-type {\n",
              "        vertical-align: middle;\n",
              "    }\n",
              "\n",
              "    .dataframe tbody tr th {\n",
              "        vertical-align: top;\n",
              "    }\n",
              "\n",
              "    .dataframe thead th {\n",
              "        text-align: right;\n",
              "    }\n",
              "</style>\n",
              "<table border=\"1\" class=\"dataframe\">\n",
              "  <thead>\n",
              "    <tr style=\"text-align: right;\">\n",
              "      <th></th>\n",
              "      <th>metro_area</th>\n",
              "      <th>PARAM1_pop_in_target_income</th>\n",
              "      <th>PARAM2_pop_in_target_age</th>\n",
              "      <th>PARAM3_pop_hispanic</th>\n",
              "      <th>metro_area_total_pop</th>\n",
              "      <th>income_percent</th>\n",
              "      <th>age_percent</th>\n",
              "      <th>hispanic_percent</th>\n",
              "      <th>mean_target_percent</th>\n",
              "    </tr>\n",
              "  </thead>\n",
              "  <tbody>\n",
              "    <tr>\n",
              "      <th>1</th>\n",
              "      <td>Akron, OH Metro Area</td>\n",
              "      <td>52446.0</td>\n",
              "      <td>603500.0</td>\n",
              "      <td>13318.0</td>\n",
              "      <td>703398.0</td>\n",
              "      <td>0.074561</td>\n",
              "      <td>0.857978</td>\n",
              "      <td>0.018934</td>\n",
              "      <td>0.317158</td>\n",
              "    </tr>\n",
              "    <tr>\n",
              "      <th>2</th>\n",
              "      <td>Albany, GA Metro Area</td>\n",
              "      <td>9529.0</td>\n",
              "      <td>131300.0</td>\n",
              "      <td>4057.0</td>\n",
              "      <td>153776.0</td>\n",
              "      <td>0.061967</td>\n",
              "      <td>0.853839</td>\n",
              "      <td>0.026383</td>\n",
              "      <td>0.314063</td>\n",
              "    </tr>\n",
              "    <tr>\n",
              "      <th>3</th>\n",
              "      <td>Albany, OR Metro Area</td>\n",
              "      <td>9273.0</td>\n",
              "      <td>94602.0</td>\n",
              "      <td>10483.0</td>\n",
              "      <td>121074.0</td>\n",
              "      <td>0.076590</td>\n",
              "      <td>0.781357</td>\n",
              "      <td>0.086583</td>\n",
              "      <td>0.314843</td>\n",
              "    </tr>\n",
              "  </tbody>\n",
              "</table>\n",
              "</div>"
            ],
            "text/plain": [
              "              metro_area  ...  mean_target_percent\n",
              "1   Akron, OH Metro Area  ...             0.317158\n",
              "2  Albany, GA Metro Area  ...             0.314063\n",
              "3  Albany, OR Metro Area  ...             0.314843\n",
              "\n",
              "[3 rows x 9 columns]"
            ]
          },
          "metadata": {
            "tags": []
          },
          "execution_count": 191
        }
      ]
    },
    {
      "cell_type": "markdown",
      "metadata": {
        "id": "2QEPfU7_lLBz",
        "colab_type": "text"
      },
      "source": [
        "#Question 4: City with the highest mean percentage across all three caregories\n"
      ]
    },
    {
      "cell_type": "markdown",
      "metadata": {
        "id": "W_pb00XMsW8r",
        "colab_type": "text"
      },
      "source": [
        "We can now sort our data frame by the mean_target_percent column to find the metro are with the highest average target population proportion. This may not be the best metric for as doing a simple average of percentages like this does treats all of our parameters the same; we may want to use a weighted average that scales the percentages before averaging based on the degree to which we prioritize each targeting parameter. Secondly, people could belong to multiple if not all of the of the demographic targeting filter we are using here; by using this method, we could create statistics that do not reflect the true in market population proportion.None the less, when we perform this calculation, we find that Jacksonville NC has the highest mean percentage across all three categories."
      ]
    },
    {
      "cell_type": "code",
      "metadata": {
        "id": "MB0KEL1usMxr",
        "colab_type": "code",
        "outputId": "4894ec9d-c334-49e1-fd28-5fc4d874730d",
        "colab": {
          "base_uri": "https://localhost:8080/",
          "height": 97
        }
      },
      "source": [
        "df.sort_values(by=['mean_target_percent'],ascending=False).head(1)"
      ],
      "execution_count": 192,
      "outputs": [
        {
          "output_type": "execute_result",
          "data": {
            "text/html": [
              "<div>\n",
              "<style scoped>\n",
              "    .dataframe tbody tr th:only-of-type {\n",
              "        vertical-align: middle;\n",
              "    }\n",
              "\n",
              "    .dataframe tbody tr th {\n",
              "        vertical-align: top;\n",
              "    }\n",
              "\n",
              "    .dataframe thead th {\n",
              "        text-align: right;\n",
              "    }\n",
              "</style>\n",
              "<table border=\"1\" class=\"dataframe\">\n",
              "  <thead>\n",
              "    <tr style=\"text-align: right;\">\n",
              "      <th></th>\n",
              "      <th>metro_area</th>\n",
              "      <th>PARAM1_pop_in_target_income</th>\n",
              "      <th>PARAM2_pop_in_target_age</th>\n",
              "      <th>PARAM3_pop_hispanic</th>\n",
              "      <th>metro_area_total_pop</th>\n",
              "      <th>income_percent</th>\n",
              "      <th>age_percent</th>\n",
              "      <th>hispanic_percent</th>\n",
              "      <th>mean_target_percent</th>\n",
              "    </tr>\n",
              "  </thead>\n",
              "  <tbody>\n",
              "    <tr>\n",
              "      <th>195</th>\n",
              "      <td>Laredo, TX Metro Area</td>\n",
              "      <td>11460.0</td>\n",
              "      <td>251681.0</td>\n",
              "      <td>257482.0</td>\n",
              "      <td>269624.0</td>\n",
              "      <td>0.042504</td>\n",
              "      <td>0.933452</td>\n",
              "      <td>0.954967</td>\n",
              "      <td>0.643641</td>\n",
              "    </tr>\n",
              "  </tbody>\n",
              "</table>\n",
              "</div>"
            ],
            "text/plain": [
              "                metro_area  ...  mean_target_percent\n",
              "195  Laredo, TX Metro Area  ...             0.643641\n",
              "\n",
              "[1 rows x 9 columns]"
            ]
          },
          "metadata": {
            "tags": []
          },
          "execution_count": 192
        }
      ]
    }
  ]
}