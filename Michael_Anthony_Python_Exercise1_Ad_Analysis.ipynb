{
  "nbformat": 4,
  "nbformat_minor": 0,
  "metadata": {
    "colab": {
      "name": "Michael.Anthony_Python_Exercise1-Ad_Analysis ",
      "provenance": [],
      "collapsed_sections": [],
      "include_colab_link": true
    },
    "kernelspec": {
      "name": "python3",
      "display_name": "Python 3"
    }
  },
  "cells": [
    {
      "cell_type": "markdown",
      "metadata": {
        "id": "view-in-github",
        "colab_type": "text"
      },
      "source": [
        "<a href=\"https://colab.research.google.com/github/MichaelAnth/ML-for-Digital-Advertising-Applications/blob/master/Michael_Anthony_Python_Exercise1_Ad_Analysis.ipynb\" target=\"_parent\"><img src=\"https://colab.research.google.com/assets/colab-badge.svg\" alt=\"Open In Colab\"/></a>"
      ]
    },
    {
      "cell_type": "markdown",
      "metadata": {
        "id": "k2JeSO5Y6_qL",
        "colab_type": "text"
      },
      "source": [
        "#Digital Advertising Python Exercise 1: Ad Analysis Assignment\n",
        "## Michael Anthony \n",
        "### October 10th 2019"
      ]
    },
    {
      "cell_type": "markdown",
      "metadata": {
        "id": "9UA-yfie7eRI",
        "colab_type": "text"
      },
      "source": [
        "In this assignment, we import facebook ad campaign performance data and perform an exploratory analysis on the trends underlying this data set. We study how timing of the campaign influences the cost per impression, which factors are most corelated with ad performance, and build a multiple regression model to predict ad campaign outcomes."
      ]
    },
    {
      "cell_type": "code",
      "metadata": {
        "id": "fzFo2S0j4dwO",
        "colab_type": "code",
        "outputId": "b46e793d-c0ac-480d-9f20-237f3447f840",
        "colab": {
          "base_uri": "https://localhost:8080/",
          "height": 375
        }
      },
      "source": [
        "#####################################################\n",
        "# Document Setup\n",
        "######################################################\n",
        "# Load key packages\n",
        "import numpy as np\n",
        "import pandas as pd\n",
        "from IPython.core.interactiveshell import InteractiveShell\n",
        "InteractiveShell.ast_node_interactivity = \"all\" # ensure all outputs are displayed from each cell\n",
        "#######################################################\n",
        "# Load Data\n",
        "DATA_URL = 'http://128.138.93.164/aprd6342/data/TravelPonyFacebook.csv'\n",
        "df = pd.read_csv(DATA_URL)\n",
        "# view data frame\n",
        "df.head()"
      ],
      "execution_count": 0,
      "outputs": [
        {
          "output_type": "execute_result",
          "data": {
            "text/html": [
              "<div>\n",
              "<style scoped>\n",
              "    .dataframe tbody tr th:only-of-type {\n",
              "        vertical-align: middle;\n",
              "    }\n",
              "\n",
              "    .dataframe tbody tr th {\n",
              "        vertical-align: top;\n",
              "    }\n",
              "\n",
              "    .dataframe thead th {\n",
              "        text-align: right;\n",
              "    }\n",
              "</style>\n",
              "<table border=\"1\" class=\"dataframe\">\n",
              "  <thead>\n",
              "    <tr style=\"text-align: right;\">\n",
              "      <th></th>\n",
              "      <th>Start Date</th>\n",
              "      <th>End Date</th>\n",
              "      <th>Account</th>\n",
              "      <th>Campaign Name</th>\n",
              "      <th>Reach</th>\n",
              "      <th>Frequency</th>\n",
              "      <th>Impressions</th>\n",
              "      <th>Clicks</th>\n",
              "      <th>Unique Clicks</th>\n",
              "      <th>Amount Spent (USD)</th>\n",
              "      <th>Page Likes</th>\n",
              "      <th>Page Engagement</th>\n",
              "      <th>Post Engagement</th>\n",
              "      <th>Post Likes</th>\n",
              "      <th>Post Comments</th>\n",
              "      <th>Post Shares</th>\n",
              "      <th>Photo Views</th>\n",
              "      <th>Website Clicks</th>\n",
              "      <th>Cost per Page Like (USD)</th>\n",
              "      <th>Cost per Page Engagement (USD)</th>\n",
              "    </tr>\n",
              "  </thead>\n",
              "  <tbody>\n",
              "    <tr>\n",
              "      <th>0</th>\n",
              "      <td>2013-12-02</td>\n",
              "      <td>2013-12-02</td>\n",
              "      <td>Bob Jackson</td>\n",
              "      <td>Cyber Weekend</td>\n",
              "      <td>278117</td>\n",
              "      <td>2.314303</td>\n",
              "      <td>643647</td>\n",
              "      <td>336</td>\n",
              "      <td>313</td>\n",
              "      <td>300.00</td>\n",
              "      <td>3</td>\n",
              "      <td>246</td>\n",
              "      <td>243</td>\n",
              "      <td>0</td>\n",
              "      <td>0</td>\n",
              "      <td>0</td>\n",
              "      <td>0</td>\n",
              "      <td>243</td>\n",
              "      <td>100.00</td>\n",
              "      <td>1.219512</td>\n",
              "    </tr>\n",
              "    <tr>\n",
              "      <th>1</th>\n",
              "      <td>2013-12-01</td>\n",
              "      <td>2013-12-01</td>\n",
              "      <td>Bob Jackson</td>\n",
              "      <td>Cyber Weekend</td>\n",
              "      <td>221255</td>\n",
              "      <td>2.079090</td>\n",
              "      <td>460009</td>\n",
              "      <td>376</td>\n",
              "      <td>348</td>\n",
              "      <td>300.00</td>\n",
              "      <td>6</td>\n",
              "      <td>215</td>\n",
              "      <td>209</td>\n",
              "      <td>0</td>\n",
              "      <td>0</td>\n",
              "      <td>0</td>\n",
              "      <td>0</td>\n",
              "      <td>209</td>\n",
              "      <td>50.00</td>\n",
              "      <td>1.395349</td>\n",
              "    </tr>\n",
              "    <tr>\n",
              "      <th>2</th>\n",
              "      <td>2013-11-30</td>\n",
              "      <td>2013-11-30</td>\n",
              "      <td>Bob Jackson</td>\n",
              "      <td>Cyber Weekend</td>\n",
              "      <td>267915</td>\n",
              "      <td>2.499069</td>\n",
              "      <td>669538</td>\n",
              "      <td>383</td>\n",
              "      <td>345</td>\n",
              "      <td>300.00</td>\n",
              "      <td>2</td>\n",
              "      <td>252</td>\n",
              "      <td>250</td>\n",
              "      <td>0</td>\n",
              "      <td>0</td>\n",
              "      <td>0</td>\n",
              "      <td>0</td>\n",
              "      <td>250</td>\n",
              "      <td>150.00</td>\n",
              "      <td>1.190476</td>\n",
              "    </tr>\n",
              "    <tr>\n",
              "      <th>3</th>\n",
              "      <td>2013-11-29</td>\n",
              "      <td>2013-11-29</td>\n",
              "      <td>Bob Jackson</td>\n",
              "      <td>Cyber Weekend</td>\n",
              "      <td>280332</td>\n",
              "      <td>2.365406</td>\n",
              "      <td>663099</td>\n",
              "      <td>301</td>\n",
              "      <td>275</td>\n",
              "      <td>300.00</td>\n",
              "      <td>3</td>\n",
              "      <td>257</td>\n",
              "      <td>254</td>\n",
              "      <td>0</td>\n",
              "      <td>0</td>\n",
              "      <td>0</td>\n",
              "      <td>0</td>\n",
              "      <td>254</td>\n",
              "      <td>100.00</td>\n",
              "      <td>1.167315</td>\n",
              "    </tr>\n",
              "    <tr>\n",
              "      <th>4</th>\n",
              "      <td>2013-11-22</td>\n",
              "      <td>2013-11-22</td>\n",
              "      <td>Bob Jackson</td>\n",
              "      <td>TravelPony: General Ads</td>\n",
              "      <td>14269</td>\n",
              "      <td>1.000420</td>\n",
              "      <td>14275</td>\n",
              "      <td>64</td>\n",
              "      <td>61</td>\n",
              "      <td>35.18</td>\n",
              "      <td>2</td>\n",
              "      <td>14</td>\n",
              "      <td>12</td>\n",
              "      <td>0</td>\n",
              "      <td>0</td>\n",
              "      <td>0</td>\n",
              "      <td>0</td>\n",
              "      <td>12</td>\n",
              "      <td>17.59</td>\n",
              "      <td>2.512857</td>\n",
              "    </tr>\n",
              "  </tbody>\n",
              "</table>\n",
              "</div>"
            ],
            "text/plain": [
              "   Start Date  ... Cost per Page Engagement (USD)\n",
              "0  2013-12-02  ...                       1.219512\n",
              "1  2013-12-01  ...                       1.395349\n",
              "2  2013-11-30  ...                       1.190476\n",
              "3  2013-11-29  ...                       1.167315\n",
              "4  2013-11-22  ...                       2.512857\n",
              "\n",
              "[5 rows x 20 columns]"
            ]
          },
          "metadata": {
            "tags": []
          },
          "execution_count": 45
        }
      ]
    },
    {
      "cell_type": "markdown",
      "metadata": {
        "id": "-RJJRsSe6mPH",
        "colab_type": "text"
      },
      "source": [
        "# 1. How do Teporal Factors Influence CPM?\n",
        "\n",
        "We now create a column for cost per impression - this allows us to develope a more accuratte basis for comprison between campaigns.\n",
        "We also generate a column for the day of the week and the month that the campaign bagan. We plot CPM by weekday and month; this will allow us to see if there is a systematic difference in the cost per impression of advertisiments based on temporal factors."
      ]
    },
    {
      "cell_type": "code",
      "metadata": {
        "id": "IF6DmjjD50w5",
        "colab_type": "code",
        "outputId": "74ef52a7-5691-4daf-df8f-a4b99ea81c2b",
        "colab": {
          "base_uri": "https://localhost:8080/",
          "height": 223
        }
      },
      "source": [
        "df[\"CPM\"]=df[\"Amount Spent (USD)\"]/df[\"Impressions\"]\n",
        "df[\"CPM\"]"
      ],
      "execution_count": 0,
      "outputs": [
        {
          "output_type": "execute_result",
          "data": {
            "text/plain": [
              "0       0.000466\n",
              "1       0.000652\n",
              "2       0.000448\n",
              "3       0.000452\n",
              "4       0.002464\n",
              "          ...   \n",
              "3700    0.003512\n",
              "3701    0.002936\n",
              "3702    0.008919\n",
              "3703    0.006643\n",
              "3704    0.000439\n",
              "Name: CPM, Length: 3705, dtype: float64"
            ]
          },
          "metadata": {
            "tags": []
          },
          "execution_count": 46
        }
      ]
    },
    {
      "cell_type": "code",
      "metadata": {
        "id": "DxUq6TQ_80OM",
        "colab_type": "code",
        "outputId": "85f3854d-2b99-4cba-d7f3-d8e431b3e577",
        "colab": {
          "base_uri": "https://localhost:8080/",
          "height": 395
        }
      },
      "source": [
        "df['Start Date'] = pd.to_datetime(df['Start Date'])\n",
        "df['start_day_of_week'] = df['Start Date'].dt.day_name()\n",
        "df['start_month'] = df['Start Date'].dt.month\n",
        "\n",
        "df['End Date'] = pd.to_datetime(df['End Date'])\n",
        "df['end_day_of_week'] = df['End Date'].dt.day_name()\n",
        "\n",
        "df.head()\n",
        "# import arrow\n",
        "# dt = arrow.get(df['Start Date'], 'YYYY-MM-DD')\n",
        "# dayoftheweek = dt.isoweekday()"
      ],
      "execution_count": 0,
      "outputs": [
        {
          "output_type": "execute_result",
          "data": {
            "text/html": [
              "<div>\n",
              "<style scoped>\n",
              "    .dataframe tbody tr th:only-of-type {\n",
              "        vertical-align: middle;\n",
              "    }\n",
              "\n",
              "    .dataframe tbody tr th {\n",
              "        vertical-align: top;\n",
              "    }\n",
              "\n",
              "    .dataframe thead th {\n",
              "        text-align: right;\n",
              "    }\n",
              "</style>\n",
              "<table border=\"1\" class=\"dataframe\">\n",
              "  <thead>\n",
              "    <tr style=\"text-align: right;\">\n",
              "      <th></th>\n",
              "      <th>Start Date</th>\n",
              "      <th>End Date</th>\n",
              "      <th>Account</th>\n",
              "      <th>Campaign Name</th>\n",
              "      <th>Reach</th>\n",
              "      <th>Frequency</th>\n",
              "      <th>Impressions</th>\n",
              "      <th>Clicks</th>\n",
              "      <th>Unique Clicks</th>\n",
              "      <th>Amount Spent (USD)</th>\n",
              "      <th>Page Likes</th>\n",
              "      <th>Page Engagement</th>\n",
              "      <th>Post Engagement</th>\n",
              "      <th>Post Likes</th>\n",
              "      <th>Post Comments</th>\n",
              "      <th>Post Shares</th>\n",
              "      <th>Photo Views</th>\n",
              "      <th>Website Clicks</th>\n",
              "      <th>Cost per Page Like (USD)</th>\n",
              "      <th>Cost per Page Engagement (USD)</th>\n",
              "      <th>CPM</th>\n",
              "      <th>start_day_of_week</th>\n",
              "      <th>start_month</th>\n",
              "      <th>end_day_of_week</th>\n",
              "    </tr>\n",
              "  </thead>\n",
              "  <tbody>\n",
              "    <tr>\n",
              "      <th>0</th>\n",
              "      <td>2013-12-02</td>\n",
              "      <td>2013-12-02</td>\n",
              "      <td>Bob Jackson</td>\n",
              "      <td>Cyber Weekend</td>\n",
              "      <td>278117</td>\n",
              "      <td>2.314303</td>\n",
              "      <td>643647</td>\n",
              "      <td>336</td>\n",
              "      <td>313</td>\n",
              "      <td>300.00</td>\n",
              "      <td>3</td>\n",
              "      <td>246</td>\n",
              "      <td>243</td>\n",
              "      <td>0</td>\n",
              "      <td>0</td>\n",
              "      <td>0</td>\n",
              "      <td>0</td>\n",
              "      <td>243</td>\n",
              "      <td>100.00</td>\n",
              "      <td>1.219512</td>\n",
              "      <td>0.000466</td>\n",
              "      <td>Monday</td>\n",
              "      <td>12</td>\n",
              "      <td>Monday</td>\n",
              "    </tr>\n",
              "    <tr>\n",
              "      <th>1</th>\n",
              "      <td>2013-12-01</td>\n",
              "      <td>2013-12-01</td>\n",
              "      <td>Bob Jackson</td>\n",
              "      <td>Cyber Weekend</td>\n",
              "      <td>221255</td>\n",
              "      <td>2.079090</td>\n",
              "      <td>460009</td>\n",
              "      <td>376</td>\n",
              "      <td>348</td>\n",
              "      <td>300.00</td>\n",
              "      <td>6</td>\n",
              "      <td>215</td>\n",
              "      <td>209</td>\n",
              "      <td>0</td>\n",
              "      <td>0</td>\n",
              "      <td>0</td>\n",
              "      <td>0</td>\n",
              "      <td>209</td>\n",
              "      <td>50.00</td>\n",
              "      <td>1.395349</td>\n",
              "      <td>0.000652</td>\n",
              "      <td>Sunday</td>\n",
              "      <td>12</td>\n",
              "      <td>Sunday</td>\n",
              "    </tr>\n",
              "    <tr>\n",
              "      <th>2</th>\n",
              "      <td>2013-11-30</td>\n",
              "      <td>2013-11-30</td>\n",
              "      <td>Bob Jackson</td>\n",
              "      <td>Cyber Weekend</td>\n",
              "      <td>267915</td>\n",
              "      <td>2.499069</td>\n",
              "      <td>669538</td>\n",
              "      <td>383</td>\n",
              "      <td>345</td>\n",
              "      <td>300.00</td>\n",
              "      <td>2</td>\n",
              "      <td>252</td>\n",
              "      <td>250</td>\n",
              "      <td>0</td>\n",
              "      <td>0</td>\n",
              "      <td>0</td>\n",
              "      <td>0</td>\n",
              "      <td>250</td>\n",
              "      <td>150.00</td>\n",
              "      <td>1.190476</td>\n",
              "      <td>0.000448</td>\n",
              "      <td>Saturday</td>\n",
              "      <td>11</td>\n",
              "      <td>Saturday</td>\n",
              "    </tr>\n",
              "    <tr>\n",
              "      <th>3</th>\n",
              "      <td>2013-11-29</td>\n",
              "      <td>2013-11-29</td>\n",
              "      <td>Bob Jackson</td>\n",
              "      <td>Cyber Weekend</td>\n",
              "      <td>280332</td>\n",
              "      <td>2.365406</td>\n",
              "      <td>663099</td>\n",
              "      <td>301</td>\n",
              "      <td>275</td>\n",
              "      <td>300.00</td>\n",
              "      <td>3</td>\n",
              "      <td>257</td>\n",
              "      <td>254</td>\n",
              "      <td>0</td>\n",
              "      <td>0</td>\n",
              "      <td>0</td>\n",
              "      <td>0</td>\n",
              "      <td>254</td>\n",
              "      <td>100.00</td>\n",
              "      <td>1.167315</td>\n",
              "      <td>0.000452</td>\n",
              "      <td>Friday</td>\n",
              "      <td>11</td>\n",
              "      <td>Friday</td>\n",
              "    </tr>\n",
              "    <tr>\n",
              "      <th>4</th>\n",
              "      <td>2013-11-22</td>\n",
              "      <td>2013-11-22</td>\n",
              "      <td>Bob Jackson</td>\n",
              "      <td>TravelPony: General Ads</td>\n",
              "      <td>14269</td>\n",
              "      <td>1.000420</td>\n",
              "      <td>14275</td>\n",
              "      <td>64</td>\n",
              "      <td>61</td>\n",
              "      <td>35.18</td>\n",
              "      <td>2</td>\n",
              "      <td>14</td>\n",
              "      <td>12</td>\n",
              "      <td>0</td>\n",
              "      <td>0</td>\n",
              "      <td>0</td>\n",
              "      <td>0</td>\n",
              "      <td>12</td>\n",
              "      <td>17.59</td>\n",
              "      <td>2.512857</td>\n",
              "      <td>0.002464</td>\n",
              "      <td>Friday</td>\n",
              "      <td>11</td>\n",
              "      <td>Friday</td>\n",
              "    </tr>\n",
              "  </tbody>\n",
              "</table>\n",
              "</div>"
            ],
            "text/plain": [
              "  Start Date   End Date  ... start_month end_day_of_week\n",
              "0 2013-12-02 2013-12-02  ...          12          Monday\n",
              "1 2013-12-01 2013-12-01  ...          12          Sunday\n",
              "2 2013-11-30 2013-11-30  ...          11        Saturday\n",
              "3 2013-11-29 2013-11-29  ...          11          Friday\n",
              "4 2013-11-22 2013-11-22  ...          11          Friday\n",
              "\n",
              "[5 rows x 24 columns]"
            ]
          },
          "metadata": {
            "tags": []
          },
          "execution_count": 47
        }
      ]
    },
    {
      "cell_type": "code",
      "metadata": {
        "id": "t_qHvzwn_8wL",
        "colab_type": "code",
        "outputId": "45f777c1-d563-4fcb-ae39-c0da222963a9",
        "colab": {
          "base_uri": "https://localhost:8080/",
          "height": 302
        }
      },
      "source": [
        "by_weekday=df.boxplot(column=[\"CPM\"],by=\"start_day_of_week\")\n",
        "# import matplotlib.pyplot as plt\n",
        "# by_weekday.title=\"Cost per ad view in USD by days of the week\"\n",
        "# by_weekday.show()"
      ],
      "execution_count": 0,
      "outputs": [
        {
          "output_type": "display_data",
          "data": {
            "image/png": "[encoded data removed]",
            "text/plain": [
              "<Figure size 432x288 with 1 Axes>"
            ]
          },
          "metadata": {
            "tags": []
          }
        }
      ]
    },
    {
      "cell_type": "markdown",
      "metadata": {
        "id": "Xkm3fTaSDOfR",
        "colab_type": "text"
      },
      "source": [
        "We notice that outliers (values above 0.05 CPM) are preventing us from discerning differences among the weekdays. We will cap the CPM at a zscore cutoff and create a new data frame with the data subset."
      ]
    },
    {
      "cell_type": "code",
      "metadata": {
        "id": "7LdEkX2tDNez",
        "colab_type": "code",
        "outputId": "68737dcc-835f-4b1b-8e56-8d74fb30b2ee",
        "colab": {
          "base_uri": "https://localhost:8080/",
          "height": 51
        }
      },
      "source": [
        "#df[\"CPM_no_outliers\"]=df[[df[\"CPM\"]>0.05,\"CPM\"]]\n",
        "import numpy as np\n",
        "from scipy import stats\n",
        "# Remove rows where the CPM is more than 3 standard deviations away from the mean CPM for the data set\n",
        "df_no_outliers=df[(np.abs(stats.zscore(df[\"CPM\"])) < 3)] \n",
        "print(len(df))\n",
        "print(len(df_no_outliers))"
      ],
      "execution_count": 0,
      "outputs": [
        {
          "output_type": "stream",
          "text": [
            "3705\n",
            "3678\n"
          ],
          "name": "stdout"
        }
      ]
    },
    {
      "cell_type": "code",
      "metadata": {
        "id": "2Nn6x9B4FDdv",
        "colab_type": "code",
        "outputId": "77153094-fd0a-4dac-a352-144d78d0aab3",
        "colab": {
          "base_uri": "https://localhost:8080/",
          "height": 769
        }
      },
      "source": [
        "df_no_outliers.boxplot(column=[\"CPM\"],by=\"start_day_of_week\")\n",
        "table = pd.pivot_table(df_no_outliers, values='CPM', index=['start_day_of_week'], aggfunc=np.average, fill_value=0)\n",
        "table\n",
        "print(\"\\n minimum average CPM : \")\n",
        "print(table[table.CPM == table.CPM.min()])\n",
        "print(\"\\n maximum average CPM: \")\n",
        "print(table[table.CPM == table.CPM.max()]) \n"
      ],
      "execution_count": 0,
      "outputs": [
        {
          "output_type": "execute_result",
          "data": {
            "text/plain": [
              "<matplotlib.axes._subplots.AxesSubplot at 0x7fc4a9d0a748>"
            ]
          },
          "metadata": {
            "tags": []
          },
          "execution_count": 75
        },
        {
          "output_type": "execute_result",
          "data": {
            "text/html": [
              "<div>\n",
              "<style scoped>\n",
              "    .dataframe tbody tr th:only-of-type {\n",
              "        vertical-align: middle;\n",
              "    }\n",
              "\n",
              "    .dataframe tbody tr th {\n",
              "        vertical-align: top;\n",
              "    }\n",
              "\n",
              "    .dataframe thead th {\n",
              "        text-align: right;\n",
              "    }\n",
              "</style>\n",
              "<table border=\"1\" class=\"dataframe\">\n",
              "  <thead>\n",
              "    <tr style=\"text-align: right;\">\n",
              "      <th></th>\n",
              "      <th>CPM</th>\n",
              "    </tr>\n",
              "    <tr>\n",
              "      <th>start_day_of_week</th>\n",
              "      <th></th>\n",
              "    </tr>\n",
              "  </thead>\n",
              "  <tbody>\n",
              "    <tr>\n",
              "      <th>Friday</th>\n",
              "      <td>0.002806</td>\n",
              "    </tr>\n",
              "    <tr>\n",
              "      <th>Monday</th>\n",
              "      <td>0.002739</td>\n",
              "    </tr>\n",
              "    <tr>\n",
              "      <th>Saturday</th>\n",
              "      <td>0.002531</td>\n",
              "    </tr>\n",
              "    <tr>\n",
              "      <th>Sunday</th>\n",
              "      <td>0.002513</td>\n",
              "    </tr>\n",
              "    <tr>\n",
              "      <th>Thursday</th>\n",
              "      <td>0.003043</td>\n",
              "    </tr>\n",
              "    <tr>\n",
              "      <th>Tuesday</th>\n",
              "      <td>0.002969</td>\n",
              "    </tr>\n",
              "    <tr>\n",
              "      <th>Wednesday</th>\n",
              "      <td>0.002826</td>\n",
              "    </tr>\n",
              "  </tbody>\n",
              "</table>\n",
              "</div>"
            ],
            "text/plain": [
              "                        CPM\n",
              "start_day_of_week          \n",
              "Friday             0.002806\n",
              "Monday             0.002739\n",
              "Saturday           0.002531\n",
              "Sunday             0.002513\n",
              "Thursday           0.003043\n",
              "Tuesday            0.002969\n",
              "Wednesday          0.002826"
            ]
          },
          "metadata": {
            "tags": []
          },
          "execution_count": 75
        },
        {
          "output_type": "stream",
          "text": [
            "\n",
            " minimum average CPM : \n",
            "                        CPM\n",
            "start_day_of_week          \n",
            "Sunday             0.002513\n",
            "\n",
            " maximum average CPM: \n",
            "                        CPM\n",
            "start_day_of_week          \n",
            "Thursday           0.003043\n"
          ],
          "name": "stdout"
        },
        {
          "output_type": "display_data",
          "data": {
            "image/png": "[encoded data removed]",
            "text/plain": [
              "<Figure size 432x288 with 1 Axes>"
            ]
          },
          "metadata": {
            "tags": []
          }
        }
      ]
    },
    {
      "cell_type": "markdown",
      "metadata": {
        "id": "L1ajbgDs5amc",
        "colab_type": "text"
      },
      "source": [
        "#Based on the chart and table above, we can answer these two questions:\n",
        "###When considering 'cost per impression', what day of the week works best? (What day is it cheapest to generate impressions)\n",
        "* The cost per view is lowest on Sunday. This could indicate that ad competition and internet traffic volume is lowest on sunday so low ad bids can succed and the resulting cpm is lower.\n",
        "\n",
        "###What day works worst? (What day is most expensive)\n",
        "* Thursday has the highest average cpm in this data set."
      ]
    },
    {
      "cell_type": "code",
      "metadata": {
        "id": "Nsg7QhCnFgbs",
        "colab_type": "code",
        "outputId": "5fc1b85c-d844-4554-cdf4-9507b4b49056",
        "colab": {
          "base_uri": "https://localhost:8080/",
          "height": 319
        }
      },
      "source": [
        "df_no_outliers.boxplot(column=[\"CPM\"],by=\"start_month\")"
      ],
      "execution_count": 0,
      "outputs": [
        {
          "output_type": "execute_result",
          "data": {
            "text/plain": [
              "<matplotlib.axes._subplots.AxesSubplot at 0x7fc4aa722be0>"
            ]
          },
          "metadata": {
            "tags": []
          },
          "execution_count": 39
        },
        {
          "output_type": "display_data",
          "data": {
            "image/png": "[encoded data removed]",
            "text/plain": [
              "<Figure size 432x288 with 1 Axes>"
            ]
          },
          "metadata": {
            "tags": []
          }
        }
      ]
    },
    {
      "cell_type": "markdown",
      "metadata": {
        "id": "l42mhHK8OuD8",
        "colab_type": "text"
      },
      "source": [
        "We see from this chart that the average CPM is highest in November followed by June. A t-test could be performed to determine if we can say with statistical certainty that november does in fact have a higher average CPM.\n",
        "\n",
        "This plot also helps us diagnose limitations of this data set. It appears that the distribution in December and July is very tight, although this could be a generalizable trend, it seems suspiciously innconsistent with the data we have from the other months implying that there could have been a data collection issue during december and July that is biasing the results from those months. Additionallly, Months 1 through 5 do not have any data so we cannot say conculsively that November yields the highest CPM."
      ]
    },
    {
      "cell_type": "markdown",
      "metadata": {
        "id": "LFt0ZbvfQJL6",
        "colab_type": "text"
      },
      "source": [
        "# Correlation Analysis: Spend and Cross Sectional Variables"
      ]
    },
    {
      "cell_type": "code",
      "metadata": {
        "id": "uf5OhY63QUEc",
        "colab_type": "code",
        "outputId": "18fd7d1e-57c2-4e8b-fa72-513c73fe2c6c",
        "colab": {
          "base_uri": "https://localhost:8080/",
          "height": 203
        }
      },
      "source": [
        "df_no_outliers[[\"Amount Spent (USD)\",'Reach','Frequency','Unique Clicks','Page Likes']].corr()"
      ],
      "execution_count": 0,
      "outputs": [
        {
          "output_type": "execute_result",
          "data": {
            "text/html": [
              "<div>\n",
              "<style scoped>\n",
              "    .dataframe tbody tr th:only-of-type {\n",
              "        vertical-align: middle;\n",
              "    }\n",
              "\n",
              "    .dataframe tbody tr th {\n",
              "        vertical-align: top;\n",
              "    }\n",
              "\n",
              "    .dataframe thead th {\n",
              "        text-align: right;\n",
              "    }\n",
              "</style>\n",
              "<table border=\"1\" class=\"dataframe\">\n",
              "  <thead>\n",
              "    <tr style=\"text-align: right;\">\n",
              "      <th></th>\n",
              "      <th>Amount Spent (USD)</th>\n",
              "      <th>Reach</th>\n",
              "      <th>Frequency</th>\n",
              "      <th>Unique Clicks</th>\n",
              "      <th>Page Likes</th>\n",
              "    </tr>\n",
              "  </thead>\n",
              "  <tbody>\n",
              "    <tr>\n",
              "      <th>Amount Spent (USD)</th>\n",
              "      <td>1.000000</td>\n",
              "      <td>0.703027</td>\n",
              "      <td>0.130077</td>\n",
              "      <td>0.882941</td>\n",
              "      <td>0.757470</td>\n",
              "    </tr>\n",
              "    <tr>\n",
              "      <th>Reach</th>\n",
              "      <td>0.703027</td>\n",
              "      <td>1.000000</td>\n",
              "      <td>0.334064</td>\n",
              "      <td>0.722161</td>\n",
              "      <td>0.304109</td>\n",
              "    </tr>\n",
              "    <tr>\n",
              "      <th>Frequency</th>\n",
              "      <td>0.130077</td>\n",
              "      <td>0.334064</td>\n",
              "      <td>1.000000</td>\n",
              "      <td>0.135002</td>\n",
              "      <td>0.000009</td>\n",
              "    </tr>\n",
              "    <tr>\n",
              "      <th>Unique Clicks</th>\n",
              "      <td>0.882941</td>\n",
              "      <td>0.722161</td>\n",
              "      <td>0.135002</td>\n",
              "      <td>1.000000</td>\n",
              "      <td>0.584415</td>\n",
              "    </tr>\n",
              "    <tr>\n",
              "      <th>Page Likes</th>\n",
              "      <td>0.757470</td>\n",
              "      <td>0.304109</td>\n",
              "      <td>0.000009</td>\n",
              "      <td>0.584415</td>\n",
              "      <td>1.000000</td>\n",
              "    </tr>\n",
              "  </tbody>\n",
              "</table>\n",
              "</div>"
            ],
            "text/plain": [
              "                    Amount Spent (USD)     Reach  ...  Unique Clicks  Page Likes\n",
              "Amount Spent (USD)            1.000000  0.703027  ...       0.882941    0.757470\n",
              "Reach                         0.703027  1.000000  ...       0.722161    0.304109\n",
              "Frequency                     0.130077  0.334064  ...       0.135002    0.000009\n",
              "Unique Clicks                 0.882941  0.722161  ...       1.000000    0.584415\n",
              "Page Likes                    0.757470  0.304109  ...       0.584415    1.000000\n",
              "\n",
              "[5 rows x 5 columns]"
            ]
          },
          "metadata": {
            "tags": []
          },
          "execution_count": 79
        }
      ]
    },
    {
      "cell_type": "markdown",
      "metadata": {
        "id": "99_ek980uvFO",
        "colab_type": "text"
      },
      "source": [
        "We see that the strongest correlation exists between Amount Spent and Unique Clicks (0.88). This implies that for each 100 dollars spent, we can predict 88 additional unique clicks on our ad."
      ]
    },
    {
      "cell_type": "markdown",
      "metadata": {
        "id": "_iB9iUOyQWgD",
        "colab_type": "text"
      },
      "source": [
        "# Multiple Regression\n",
        "Predicting Unique Clicks when Reach and Frequency are the independent (predictor) variables."
      ]
    },
    {
      "cell_type": "code",
      "metadata": {
        "id": "6jVtPLTpQj6e",
        "colab_type": "code",
        "outputId": "eb3b6846-3cd8-4a35-bfba-9601889bffd3",
        "colab": {
          "base_uri": "https://localhost:8080/",
          "height": 476
        }
      },
      "source": [
        "import statsmodels.api as sm\n",
        "X = df[['Frequency','Reach']]\n",
        "y = df['Unique Clicks']\n",
        "model = sm.OLS(y, X).fit()\n",
        "predictions = model.predict(X)\n",
        "model.summary()"
      ],
      "execution_count": 0,
      "outputs": [
        {
          "output_type": "execute_result",
          "data": {
            "text/html": [
              "<table class=\"simpletable\">\n",
              "<caption>OLS Regression Results</caption>\n",
              "<tr>\n",
              "  <th>Dep. Variable:</th>      <td>Unique Clicks</td>  <th>  R-squared (uncentered):</th>      <td>   0.557</td> \n",
              "</tr>\n",
              "<tr>\n",
              "  <th>Model:</th>                   <td>OLS</td>       <th>  Adj. R-squared (uncentered):</th> <td>   0.556</td> \n",
              "</tr>\n",
              "<tr>\n",
              "  <th>Method:</th>             <td>Least Squares</td>  <th>  F-statistic:       </th>          <td>   2325.</td> \n",
              "</tr>\n",
              "<tr>\n",
              "  <th>Date:</th>             <td>Mon, 11 Nov 2019</td> <th>  Prob (F-statistic):</th>           <td>  0.00</td>  \n",
              "</tr>\n",
              "<tr>\n",
              "  <th>Time:</th>                 <td>05:53:33</td>     <th>  Log-Likelihood:    </th>          <td> -15973.</td> \n",
              "</tr>\n",
              "<tr>\n",
              "  <th>No. Observations:</th>      <td>  3705</td>      <th>  AIC:               </th>          <td>3.195e+04</td>\n",
              "</tr>\n",
              "<tr>\n",
              "  <th>Df Residuals:</th>          <td>  3703</td>      <th>  BIC:               </th>          <td>3.196e+04</td>\n",
              "</tr>\n",
              "<tr>\n",
              "  <th>Df Model:</th>              <td>     2</td>      <th>                     </th>              <td> </td>    \n",
              "</tr>\n",
              "<tr>\n",
              "  <th>Covariance Type:</th>      <td>nonrobust</td>    <th>                     </th>              <td> </td>    \n",
              "</tr>\n",
              "</table>\n",
              "<table class=\"simpletable\">\n",
              "<tr>\n",
              "      <td></td>         <th>coef</th>     <th>std err</th>      <th>t</th>      <th>P>|t|</th>  <th>[0.025</th>    <th>0.975]</th>  \n",
              "</tr>\n",
              "<tr>\n",
              "  <th>Frequency</th> <td>    3.6139</td> <td>    0.298</td> <td>   12.109</td> <td> 0.000</td> <td>    3.029</td> <td>    4.199</td>\n",
              "</tr>\n",
              "<tr>\n",
              "  <th>Reach</th>     <td>    0.0019</td> <td> 3.12e-05</td> <td>   62.490</td> <td> 0.000</td> <td>    0.002</td> <td>    0.002</td>\n",
              "</tr>\n",
              "</table>\n",
              "<table class=\"simpletable\">\n",
              "<tr>\n",
              "  <th>Omnibus:</th>       <td>5107.616</td> <th>  Durbin-Watson:     </th>  <td>   0.803</td>  \n",
              "</tr>\n",
              "<tr>\n",
              "  <th>Prob(Omnibus):</th>  <td> 0.000</td>  <th>  Jarque-Bera (JB):  </th> <td>5128392.747</td>\n",
              "</tr>\n",
              "<tr>\n",
              "  <th>Skew:</th>           <td> 7.331</td>  <th>  Prob(JB):          </th>  <td>    0.00</td>  \n",
              "</tr>\n",
              "<tr>\n",
              "  <th>Kurtosis:</th>       <td>184.674</td> <th>  Cond. No.          </th>  <td>9.84e+03</td>  \n",
              "</tr>\n",
              "</table><br/><br/>Warnings:<br/>[1] Standard Errors assume that the covariance matrix of the errors is correctly specified.<br/>[2] The condition number is large, 9.84e+03. This might indicate that there are<br/>strong multicollinearity or other numerical problems."
            ],
            "text/plain": [
              "<class 'statsmodels.iolib.summary.Summary'>\n",
              "\"\"\"\n",
              "                                 OLS Regression Results                                \n",
              "=======================================================================================\n",
              "Dep. Variable:          Unique Clicks   R-squared (uncentered):                   0.557\n",
              "Model:                            OLS   Adj. R-squared (uncentered):              0.556\n",
              "Method:                 Least Squares   F-statistic:                              2325.\n",
              "Date:                Mon, 11 Nov 2019   Prob (F-statistic):                        0.00\n",
              "Time:                        05:53:33   Log-Likelihood:                         -15973.\n",
              "No. Observations:                3705   AIC:                                  3.195e+04\n",
              "Df Residuals:                    3703   BIC:                                  3.196e+04\n",
              "Df Model:                           2                                                  \n",
              "Covariance Type:            nonrobust                                                  \n",
              "==============================================================================\n",
              "                 coef    std err          t      P>|t|      [0.025      0.975]\n",
              "------------------------------------------------------------------------------\n",
              "Frequency      3.6139      0.298     12.109      0.000       3.029       4.199\n",
              "Reach          0.0019   3.12e-05     62.490      0.000       0.002       0.002\n",
              "==============================================================================\n",
              "Omnibus:                     5107.616   Durbin-Watson:                   0.803\n",
              "Prob(Omnibus):                  0.000   Jarque-Bera (JB):          5128392.747\n",
              "Skew:                           7.331   Prob(JB):                         0.00\n",
              "Kurtosis:                     184.674   Cond. No.                     9.84e+03\n",
              "==============================================================================\n",
              "\n",
              "Warnings:\n",
              "[1] Standard Errors assume that the covariance matrix of the errors is correctly specified.\n",
              "[2] The condition number is large, 9.84e+03. This might indicate that there are\n",
              "strong multicollinearity or other numerical problems.\n",
              "\"\"\""
            ]
          },
          "metadata": {
            "tags": []
          },
          "execution_count": 81
        }
      ]
    },
    {
      "cell_type": "markdown",
      "metadata": {
        "id": "JSqO9mfoJdyZ",
        "colab_type": "text"
      },
      "source": [
        "From the multiple regression output we can see that both the Frequency and Reach variables are statistically significant (with a p value below 0.05) meaning they both explain unique varriance in the number of Unique Clicks on ads. Overall, this model only explains slightly over half the overall variation in Unique Clicks with a R squared value of 0.557. The reach coefficient is low, meaning that each additional person reached only represents a small increase in the likelyhood of a unique click. "
      ]
    },
    {
      "cell_type": "markdown",
      "metadata": {
        "id": "aA_g7RGemaEn",
        "colab_type": "text"
      },
      "source": [
        "# Question Responses\n",
        "\n",
        "###When considering 'cost per impression', what day of the week works best? (What day is it cheapest to generate impressions)\n",
        "* The cost per view is lowest on Sunday. This could indicate that ad competition and internet traffic volume is lowest on sunday so low ad bids can succed and the resulting cpm is lower.\n",
        "\n",
        "###What day works worst? (What day is most expensive)\n",
        "* Thursday has the highest average cpm in this data set.\n",
        "\n",
        "###Which correlation is the strongest? What does that mean practically? (respond in a tweet or less)\n",
        "* We see that the strongest correlation exists between Amount Spent and Unique Clicks (0.88). This implies that for each 100 dollars spent, we can predict 88 additional unique clicks on our ad.\n",
        "\n",
        "###What variable most strongly predicts unique clicks? What does that mean practically? (respond in a tweet or less)\n",
        "* Both Frequency and Reach are statisitically significant predictors - they explain unique varriance in the number of unique clicks an ad recieves. The coefficient for frequency is higher meaning that for each jump in reach, we can precict an additional 3.6 unique clicks. With reach, an increase of 1000 people reached only produces 1.9 dditional unique clicks. "
      ]
    }
  ]
}