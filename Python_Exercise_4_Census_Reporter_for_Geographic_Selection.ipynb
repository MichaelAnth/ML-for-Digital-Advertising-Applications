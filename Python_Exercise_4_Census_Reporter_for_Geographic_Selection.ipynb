{
  "nbformat": 4,
  "nbformat_minor": 0,
  "metadata": {
    "colab": {
      "name": "Python_Exercise_4-Census_Reporter_for_Geographic_Selection",
      "provenance": [],
      "collapsed_sections": [],
      "include_colab_link": true
    },
    "kernelspec": {
      "name": "python3",
      "display_name": "Python 3"
    }
  },
  "cells": [
    {
      "cell_type": "markdown",
      "metadata": {
        "id": "view-in-github",
        "colab_type": "text"
      },
      "source": [
        "<a href=\"https://colab.research.google.com/github/MichaelAnth/ML-for-Digital-Advertising-Applications/blob/master/Python_Exercise_4_Census_Reporter_for_Geographic_Selection.ipynb\" target=\"_parent\"><img src=\"https://colab.research.google.com/assets/colab-badge.svg\" alt=\"Open In Colab\"/></a>"
      ]
    },
    {
      "cell_type": "markdown",
      "metadata": {
        "id": "9MQTqmgzSke2",
        "colab_type": "text"
      },
      "source": [
        "# Digital Advertising Python Exercise 4\n",
        "### **Author:** Michael Anthony\n",
        "### **Date:** December 2019\n",
        "### **Objective:** Use the Census Reporter API to make geographic selections for areas with demographic features of interest for the marketing of Ozo coffee products.\n"
      ]
    },
    {
      "cell_type": "markdown",
      "metadata": {
        "id": "wW0PYeIMUEkN",
        "colab_type": "text"
      },
      "source": [
        "# Document Setup and Loading Libraries"
      ]
    },
    {
      "cell_type": "code",
      "metadata": {
        "id": "VUQeRxk2qvX5",
        "colab_type": "code",
        "colab": {}
      },
      "source": [
        "import pandas as pd\n",
        "import pandas\n",
        "# sklearn.cross_validation was not importing train_test_split so the model\n",
        "# selection module is used instead\n",
        "from sklearn.model_selection import train_test_split\n",
        "from sklearn.linear_model import LassoLarsCV\n",
        "import matplotlib.pyplot as plt"
      ],
      "execution_count": 0,
      "outputs": []
    },
    {
      "cell_type": "markdown",
      "metadata": {
        "id": "RCEzqllf8ng7",
        "colab_type": "text"
      },
      "source": [
        "# Import and View Data"
      ]
    },
    {
      "cell_type": "code",
      "metadata": {
        "id": "Wkrm1Vav8GQE",
        "colab_type": "code",
        "outputId": "800369e7-0c83-4484-dd7f-020e2f025657",
        "colab": {
          "base_uri": "https://localhost:8080/",
          "height": 203
        }
      },
      "source": [
        "# Load Data\n",
        "DATA_URL = 'https://s3.amazonaws.com/vargo.aprd6342/data/msas.csv'\n",
        "df = pd.read_csv(DATA_URL)\n",
        "# view data frame\n",
        "df.head()"
      ],
      "execution_count": 0,
      "outputs": [
        {
          "output_type": "execute_result",
          "data": {
            "text/html": [
              "<div>\n",
              "<style scoped>\n",
              "    .dataframe tbody tr th:only-of-type {\n",
              "        vertical-align: middle;\n",
              "    }\n",
              "\n",
              "    .dataframe tbody tr th {\n",
              "        vertical-align: top;\n",
              "    }\n",
              "\n",
              "    .dataframe thead th {\n",
              "        text-align: right;\n",
              "    }\n",
              "</style>\n",
              "<table border=\"1\" class=\"dataframe\">\n",
              "  <thead>\n",
              "    <tr style=\"text-align: right;\">\n",
              "      <th></th>\n",
              "      <th>CBSA</th>\n",
              "      <th>NAME</th>\n",
              "      <th>POPESTIMATE2017</th>\n",
              "    </tr>\n",
              "  </thead>\n",
              "  <tbody>\n",
              "    <tr>\n",
              "      <th>0</th>\n",
              "      <td>10180</td>\n",
              "      <td>Abilene, TX</td>\n",
              "      <td>170219</td>\n",
              "    </tr>\n",
              "    <tr>\n",
              "      <th>1</th>\n",
              "      <td>10420</td>\n",
              "      <td>Akron, OH</td>\n",
              "      <td>703505</td>\n",
              "    </tr>\n",
              "    <tr>\n",
              "      <th>2</th>\n",
              "      <td>10500</td>\n",
              "      <td>Albany, GA</td>\n",
              "      <td>151434</td>\n",
              "    </tr>\n",
              "    <tr>\n",
              "      <th>3</th>\n",
              "      <td>10540</td>\n",
              "      <td>Albany, OR</td>\n",
              "      <td>125047</td>\n",
              "    </tr>\n",
              "    <tr>\n",
              "      <th>4</th>\n",
              "      <td>10580</td>\n",
              "      <td>Albany-Schenectady-Troy, NY</td>\n",
              "      <td>886188</td>\n",
              "    </tr>\n",
              "  </tbody>\n",
              "</table>\n",
              "</div>"
            ],
            "text/plain": [
              "    CBSA                         NAME  POPESTIMATE2017\n",
              "0  10180                  Abilene, TX           170219\n",
              "1  10420                    Akron, OH           703505\n",
              "2  10500                   Albany, GA           151434\n",
              "3  10540                   Albany, OR           125047\n",
              "4  10580  Albany-Schenectady-Troy, NY           886188"
            ]
          },
          "metadata": {
            "tags": []
          },
          "execution_count": 134
        }
      ]
    },
    {
      "cell_type": "markdown",
      "metadata": {
        "id": "UWJi8j2IYOIo",
        "colab_type": "text"
      },
      "source": [
        "Lets view the 10 US metro areas with the greatest population."
      ]
    },
    {
      "cell_type": "code",
      "metadata": {
        "id": "UOHGUqozYGL9",
        "colab_type": "code",
        "outputId": "873f151e-c2be-4464-ddc6-cff3126feceb",
        "colab": {
          "base_uri": "https://localhost:8080/",
          "height": 357
        }
      },
      "source": [
        "df.sort_values(by=['POPESTIMATE2017'],ascending=False).head(10)"
      ],
      "execution_count": 0,
      "outputs": [
        {
          "output_type": "execute_result",
          "data": {
            "text/html": [
              "<div>\n",
              "<style scoped>\n",
              "    .dataframe tbody tr th:only-of-type {\n",
              "        vertical-align: middle;\n",
              "    }\n",
              "\n",
              "    .dataframe tbody tr th {\n",
              "        vertical-align: top;\n",
              "    }\n",
              "\n",
              "    .dataframe thead th {\n",
              "        text-align: right;\n",
              "    }\n",
              "</style>\n",
              "<table border=\"1\" class=\"dataframe\">\n",
              "  <thead>\n",
              "    <tr style=\"text-align: right;\">\n",
              "      <th></th>\n",
              "      <th>CBSA</th>\n",
              "      <th>NAME</th>\n",
              "      <th>POPESTIMATE2017</th>\n",
              "    </tr>\n",
              "  </thead>\n",
              "  <tbody>\n",
              "    <tr>\n",
              "      <th>249</th>\n",
              "      <td>35620</td>\n",
              "      <td>New York-Newark-Jersey City, NY-NJ-PA</td>\n",
              "      <td>20320876</td>\n",
              "    </tr>\n",
              "    <tr>\n",
              "      <th>210</th>\n",
              "      <td>31080</td>\n",
              "      <td>Los Angeles-Long Beach-Anaheim, CA</td>\n",
              "      <td>13353907</td>\n",
              "    </tr>\n",
              "    <tr>\n",
              "      <th>68</th>\n",
              "      <td>16980</td>\n",
              "      <td>Chicago-Naperville-Elgin, IL-IN-WI</td>\n",
              "      <td>9533040</td>\n",
              "    </tr>\n",
              "    <tr>\n",
              "      <th>86</th>\n",
              "      <td>19100</td>\n",
              "      <td>Dallas-Fort Worth-Arlington, TX</td>\n",
              "      <td>7399662</td>\n",
              "    </tr>\n",
              "    <tr>\n",
              "      <th>159</th>\n",
              "      <td>26420</td>\n",
              "      <td>Houston-The Woodlands-Sugar Land, TX</td>\n",
              "      <td>6892427</td>\n",
              "    </tr>\n",
              "    <tr>\n",
              "      <th>363</th>\n",
              "      <td>47900</td>\n",
              "      <td>Washington-Arlington-Alexandria, DC-VA-MD-WV</td>\n",
              "      <td>6216589</td>\n",
              "    </tr>\n",
              "    <tr>\n",
              "      <th>225</th>\n",
              "      <td>33100</td>\n",
              "      <td>Miami-Fort Lauderdale-West Palm Beach, FL</td>\n",
              "      <td>6158824</td>\n",
              "    </tr>\n",
              "    <tr>\n",
              "      <th>269</th>\n",
              "      <td>37980</td>\n",
              "      <td>Philadelphia-Camden-Wilmington, PA-NJ-DE-MD</td>\n",
              "      <td>6096120</td>\n",
              "    </tr>\n",
              "    <tr>\n",
              "      <th>17</th>\n",
              "      <td>12060</td>\n",
              "      <td>Atlanta-Sandy Springs-Roswell, GA</td>\n",
              "      <td>5884736</td>\n",
              "    </tr>\n",
              "    <tr>\n",
              "      <th>42</th>\n",
              "      <td>14460</td>\n",
              "      <td>Boston-Cambridge-Newton, MA-NH</td>\n",
              "      <td>4836531</td>\n",
              "    </tr>\n",
              "  </tbody>\n",
              "</table>\n",
              "</div>"
            ],
            "text/plain": [
              "      CBSA                                          NAME  POPESTIMATE2017\n",
              "249  35620         New York-Newark-Jersey City, NY-NJ-PA         20320876\n",
              "210  31080            Los Angeles-Long Beach-Anaheim, CA         13353907\n",
              "68   16980            Chicago-Naperville-Elgin, IL-IN-WI          9533040\n",
              "86   19100               Dallas-Fort Worth-Arlington, TX          7399662\n",
              "159  26420          Houston-The Woodlands-Sugar Land, TX          6892427\n",
              "363  47900  Washington-Arlington-Alexandria, DC-VA-MD-WV          6216589\n",
              "225  33100     Miami-Fort Lauderdale-West Palm Beach, FL          6158824\n",
              "269  37980   Philadelphia-Camden-Wilmington, PA-NJ-DE-MD          6096120\n",
              "17   12060             Atlanta-Sandy Springs-Roswell, GA          5884736\n",
              "42   14460                Boston-Cambridge-Newton, MA-NH          4836531"
            ]
          },
          "metadata": {
            "tags": []
          },
          "execution_count": 135
        }
      ]
    },
    {
      "cell_type": "markdown",
      "metadata": {
        "id": "EqxIiBGM8rXI",
        "colab_type": "text"
      },
      "source": [
        "#Demographics of interest\n",
        "Based on the market analysis we can draw a few key insights. The first is that high socio-economic status (SES) consumers particularly care about the taste of their coffee and are looking for superior taste when choosing to purchase premium brands. Although we can assume our Ozo coffee has a superior taste, the dominant diferentiator for Ozo is that it is organic. This quality is most appealing for the second highest income bracket in our analysis, **50-75k**. Hence, we should target cities where the proportion of the population in this income bracket is higher than in other cities.\n",
        "\n",
        "Our product is organic and contains no artificial ingredients which are appealing qualities for **18-34** year old. Hence we should look for areas where the proportion of the population in the 18 to 34 age range is particularly high.\n",
        "\n",
        "Next, we notice that these apeals to healthy and environmental friendly products are particularly relevant for hispanic populations, hence we may target cities where there is a particularly **large hispanic population**."
      ]
    },
    {
      "cell_type": "markdown",
      "metadata": {
        "id": "q4J-0UP8Yv28",
        "colab_type": "text"
      },
      "source": [
        "# Deterine the Target Tables\n",
        "We must determine which data sets to pull from census reporter.\n",
        "1. For the proportion of the population in each income bracket: Table **B19001**.\n",
        "2. For a breakdown of population by age group: Table **B01001**\n",
        "3. For the proportion of the population that is hispanic: Table **B03002** \n"
      ]
    },
    {
      "cell_type": "code",
      "metadata": {
        "id": "VOEwFS_g8l4_",
        "colab_type": "code",
        "colab": {}
      },
      "source": [
        "tableids = ['B19001', 'B01001', 'B03002']"
      ],
      "execution_count": 0,
      "outputs": []
    },
    {
      "cell_type": "code",
      "metadata": {
        "id": "XD1wLN9KjNRt",
        "colab_type": "code",
        "outputId": "0784fcdf-a22d-4b41-c348-4f32df1db937",
        "colab": {
          "base_uri": "https://localhost:8080/",
          "height": 54
        }
      },
      "source": [
        "geoid = '31000US' + df['CBSA'].astype(str)\n",
        "df['geoid'] = geoid\n",
        "geoid=list(geoid)\n",
        "print(geoid)"
      ],
      "execution_count": 0,
      "outputs": [
        {
          "output_type": "stream",
          "text": [
            "['31000US10180', '31000US10420', '31000US10500', '31000US10540', '31000US10580', '31000US10740', '31000US10780', '31000US10900', '31000US11020', '31000US11100', '31000US11180', '31000US11260', '31000US11460', '31000US11500', '31000US11540', '31000US11700', '31000US12020', '31000US12060', '31000US12100', '31000US12220', '31000US12260', '31000US12420', '31000US12540', '31000US12580', '31000US12620', '31000US12700', '31000US12940', '31000US12980', '31000US13020', '31000US13140', '31000US13220', '31000US13380', '31000US13460', '31000US13740', '31000US13780', '31000US13820', '31000US13900', '31000US13980', '31000US14010', '31000US14020', '31000US14100', '31000US14260', '31000US14460', '31000US14500', '31000US14540', '31000US14740', '31000US14860', '31000US15180', '31000US15260', '31000US15380', '31000US15500', '31000US15540', '31000US15680', '31000US15940', '31000US15980', '31000US16020', '31000US16060', '31000US16180', '31000US16220', '31000US16300', '31000US16540', '31000US16580', '31000US16620', '31000US16700', '31000US16740', '31000US16820', '31000US16860', '31000US16940', '31000US16980', '31000US17020', '31000US17140', '31000US17300', '31000US17420', '31000US17460', '31000US17660', '31000US17780', '31000US17820', '31000US17860', '31000US17900', '31000US17980', '31000US18020', '31000US18140', '31000US18580', '31000US18700', '31000US18880', '31000US19060', '31000US19100', '31000US19140', '31000US19180', '31000US19300', '31000US19340', '31000US19380', '31000US19460', '31000US19500', '31000US19660', '31000US19740', '31000US19780', '31000US19820', '31000US20020', '31000US20100', '31000US20220', '31000US20260', '31000US20500', '31000US20700', '31000US20740', '31000US20940', '31000US21060', '31000US21140', '31000US21300', '31000US21340', '31000US21420', '31000US21500', '31000US21660', '31000US21780', '31000US21820', '31000US22020', '31000US22140', '31000US22180', '31000US22220', '31000US22380', '31000US22420', '31000US22500', '31000US22520', '31000US22540', '31000US22660', '31000US22900', '31000US23060', '31000US23420', '31000US23460', '31000US23540', '31000US23580', '31000US23900', '31000US24020', '31000US24140', '31000US24220', '31000US24260', '31000US24300', '31000US24340', '31000US24420', '31000US24500', '31000US24540', '31000US24580', '31000US24660', '31000US24780', '31000US24860', '31000US25060', '31000US25180', '31000US25220', '31000US25260', '31000US25420', '31000US25500', '31000US25540', '31000US25620', '31000US25860', '31000US25940', '31000US25980', '31000US26140', '31000US26300', '31000US26380', '31000US26420', '31000US26580', '31000US26620', '31000US26820', '31000US26900', '31000US26980', '31000US27060', '31000US27100', '31000US27140', '31000US27180', '31000US27260', '31000US27340', '31000US27500', '31000US27620', '31000US27740', '31000US27780', '31000US27860', '31000US27900', '31000US27980', '31000US28020', '31000US28100', '31000US28140', '31000US28420', '31000US28660', '31000US28700', '31000US28740', '31000US28940', '31000US29020', '31000US29100', '31000US29180', '31000US29200', '31000US29340', '31000US29420', '31000US29460', '31000US29540', '31000US29620', '31000US29700', '31000US29740', '31000US29820', '31000US29940', '31000US30020', '31000US30140', '31000US30300', '31000US30340', '31000US30460', '31000US30620', '31000US30700', '31000US30780', '31000US30860', '31000US30980', '31000US31020', '31000US31080', '31000US31140', '31000US31180', '31000US31340', '31000US31420', '31000US31460', '31000US31540', '31000US31700', '31000US31740', '31000US31860', '31000US31900', '31000US32580', '31000US32780', '31000US32820', '31000US32900', '31000US33100', '31000US33140', '31000US33220', '31000US33260', '31000US33340', '31000US33460', '31000US33540', '31000US33660', '31000US33700', '31000US33740', '31000US33780', '31000US33860', '31000US34060', '31000US34100', '31000US34580', '31000US34620', '31000US34740', '31000US34820', '31000US34900', '31000US34940', '31000US34980', '31000US35100', '31000US35300', '31000US35380', '31000US35620', '31000US35660', '31000US35840', '31000US35980', '31000US36100', '31000US36140', '31000US36220', '31000US36260', '31000US36420', '31000US36500', '31000US36540', '31000US36740', '31000US36780', '31000US36980', '31000US37100', '31000US37340', '31000US37460', '31000US37620', '31000US37860', '31000US37900', '31000US37980', '31000US38060', '31000US38220', '31000US38300', '31000US38340', '31000US38540', '31000US38860', '31000US38900', '31000US38940', '31000US39140', '31000US39300', '31000US39340', '31000US39380', '31000US39460', '31000US39540', '31000US39580', '31000US39660', '31000US39740', '31000US39820', '31000US39900', '31000US40060', '31000US40140', '31000US40220', '31000US40340', '31000US40380', '31000US40420', '31000US40580', '31000US40660', '31000US40900', '31000US40980', '31000US41060', '31000US41100', '31000US41140', '31000US41180', '31000US41420', '31000US41500', '31000US41540', '31000US41620', '31000US41660', '31000US41700', '31000US41740', '31000US41860', '31000US41940', '31000US42020', '31000US42100', '31000US42140', '31000US42200', '31000US42220', '31000US42340', '31000US42540', '31000US42660', '31000US42680', '31000US42700', '31000US43100', '31000US43300', '31000US43340', '31000US43420', '31000US43580', '31000US43620', '31000US43780', '31000US43900', '31000US44060', '31000US44100', '31000US44140', '31000US44180', '31000US44220', '31000US44300', '31000US44420', '31000US44700', '31000US44940', '31000US45060', '31000US45220', '31000US45300', '31000US45460', '31000US45500', '31000US45540', '31000US45780', '31000US45820', '31000US45940', '31000US46060', '31000US46140', '31000US46220', '31000US46340', '31000US46520', '31000US46540', '31000US46660', '31000US46700', '31000US47020', '31000US47220', '31000US47260', '31000US47300', '31000US47380', '31000US47460', '31000US47580', '31000US47900', '31000US47940', '31000US48060', '31000US48140', '31000US48260', '31000US48300', '31000US48540', '31000US48620', '31000US48660', '31000US48700', '31000US48900', '31000US49020', '31000US49180', '31000US49340', '31000US49420', '31000US49620', '31000US49660', '31000US49700', '31000US49740']\n"
          ],
          "name": "stdout"
        }
      ]
    },
    {
      "cell_type": "code",
      "metadata": {
        "id": "LeKJ2HIicwNn",
        "colab_type": "code",
        "colab": {}
      },
      "source": [
        "## get the data for each parameter of interest as a separate url\n",
        "# url_list=[]\n",
        "# for i in tableids:\n",
        "#     for j in geoid:\n",
        "#         tablestring=str(i)\n",
        "#         geographytag=str(j)\n",
        "#         requesturl = 'https://api.censusreporter.org/1.0/data/show/latest?table_ids=%s&geo_ids=310|01000US' % (tablestring, geographytag)\n",
        "#         url_list.append(requesturl)\n",
        "# print(url_list)\n"
      ],
      "execution_count": 0,
      "outputs": []
    },
    {
      "cell_type": "code",
      "metadata": {
        "id": "6iBiuYwedkxL",
        "colab_type": "code",
        "outputId": "ee7c483b-3621-4546-c91b-d37b504ad1a3",
        "colab": {
          "base_uri": "https://localhost:8080/",
          "height": 54
        }
      },
      "source": [
        "# Or we can get the data for all our paramaters with one url\n",
        "concat_tableid_string = ','.join(tableids)\n",
        "requested_url = 'https://api.censusreporter.org/1.0/data/show/latest?table_ids=%s&geo_ids=310|01000US' % concat_tableid_string\n",
        "print(requested_url)"
      ],
      "execution_count": 0,
      "outputs": [
        {
          "output_type": "stream",
          "text": [
            "https://api.censusreporter.org/1.0/data/show/latest?table_ids=B19001,B01001,B03002&geo_ids=310|01000US\n"
          ],
          "name": "stdout"
        }
      ]
    },
    {
      "cell_type": "code",
      "metadata": {
        "id": "jsY_ynP6eHQp",
        "colab_type": "code",
        "colab": {}
      },
      "source": [
        "import requests \n",
        "import json\n",
        "loadedjson = requests.get(requested_url)\n",
        "parsedjson = loadedjson.json()"
      ],
      "execution_count": 0,
      "outputs": []
    },
    {
      "cell_type": "code",
      "metadata": {
        "id": "sHoRJE2ufmkg",
        "colab_type": "code",
        "outputId": "6a287862-8cc1-4f5c-cb9e-943c85837a6a",
        "colab": {
          "base_uri": "https://localhost:8080/",
          "height": 34
        }
      },
      "source": [
        "#view the keys of the json dictionary to see how the data is organized\n",
        "parsedjson.keys()"
      ],
      "execution_count": 0,
      "outputs": [
        {
          "output_type": "execute_result",
          "data": {
            "text/plain": [
              "dict_keys(['release', 'tables', 'data', 'geography'])"
            ]
          },
          "metadata": {
            "tags": []
          },
          "execution_count": 140
        }
      ]
    },
    {
      "cell_type": "code",
      "metadata": {
        "id": "e5lPNWB7mYj6",
        "colab_type": "code",
        "colab": {}
      },
      "source": [
        "## View the structure of the dictionary to find the nessesary values\n",
        "#parsedjson"
      ],
      "execution_count": 0,
      "outputs": []
    },
    {
      "cell_type": "code",
      "metadata": {
        "id": "ow2-Fg5qg3ph",
        "colab_type": "code",
        "outputId": "398c704c-02ea-4b40-81e2-7850fe442c3d",
        "colab": {
          "base_uri": "https://localhost:8080/",
          "height": 71
        }
      },
      "source": [
        "# print(parsedjson['31000US10180'])\n",
        "print(parsedjson.get('tables')['B03002'])\n",
        "# print(parsedjson.get('data')['estimate'])\n",
        "parsedjson['data']['31000US10180']['B01001']['estimate']['B01001001']"
      ],
      "execution_count": 0,
      "outputs": [
        {
          "output_type": "stream",
          "text": [
            "{'title': 'Hispanic or Latino Origin by Race', 'universe': 'Total Population', 'denominator_column_id': 'B03002001', 'columns': {'B03002001': {'name': 'Total:', 'indent': 0}, 'B03002002': {'name': 'Not Hispanic or Latino:', 'indent': 1}, 'B03002003': {'name': 'White alone', 'indent': 2}, 'B03002004': {'name': 'Black or African American alone', 'indent': 2}, 'B03002005': {'name': 'American Indian and Alaska Native alone', 'indent': 2}, 'B03002006': {'name': 'Asian alone', 'indent': 2}, 'B03002007': {'name': 'Native Hawaiian and Other Pacific Islander alone', 'indent': 2}, 'B03002008': {'name': 'Some other race alone', 'indent': 2}, 'B03002009': {'name': 'Two or more races:', 'indent': 2}, 'B03002010': {'name': 'Two races including Some other race', 'indent': 3}, 'B03002011': {'name': 'Two races excluding Some other race, and three or more races', 'indent': 3}, 'B03002012': {'name': 'Hispanic or Latino:', 'indent': 1}, 'B03002013': {'name': 'White alone', 'indent': 2}, 'B03002014': {'name': 'Black or African American alone', 'indent': 2}, 'B03002015': {'name': 'American Indian and Alaska Native alone', 'indent': 2}, 'B03002016': {'name': 'Asian alone', 'indent': 2}, 'B03002017': {'name': 'Native Hawaiian and Other Pacific Islander alone', 'indent': 2}, 'B03002018': {'name': 'Some other race alone', 'indent': 2}, 'B03002019': {'name': 'Two or more races:', 'indent': 2}, 'B03002020': {'name': 'Two races including Some other race', 'indent': 3}, 'B03002021': {'name': 'Two races excluding Some other race, and three or more races', 'indent': 3}}}\n"
          ],
          "name": "stdout"
        },
        {
          "output_type": "execute_result",
          "data": {
            "text/plain": [
              "169000.0"
            ]
          },
          "metadata": {
            "tags": []
          },
          "execution_count": 142
        }
      ]
    },
    {
      "cell_type": "markdown",
      "metadata": {
        "id": "On4n3i9Lefml",
        "colab_type": "text"
      },
      "source": [
        "#Variables of interest\n",
        "\n",
        "1. income: **50-75k**. \n",
        "\n",
        "2. age: **18-34**\n",
        "\n",
        "3. ethnicity: **large hispanic population**.\n",
        "\n",
        "\n",
        "To find the city with the largest total target population, we want to take the sum of the sub populations of interest and find the city with the largest in market audience. We begin by identify the tables containing the subpopulation data we are interested in aggregating."
      ]
    },
    {
      "cell_type": "code",
      "metadata": {
        "id": "2ukSrEtIekXh",
        "colab_type": "code",
        "colab": {}
      },
      "source": [
        "# population size by Age tables:\n",
        "    #male\n",
        "    # 'B01001007': {'indent': 2, 'name': '18 and 19 years'},\n",
        "    # 'B01001008': {'indent': 2, 'name': '20 years'},\n",
        "    # 'B01001009': {'indent': 2, 'name': '21 years'},\n",
        "    # 'B01001010': {'indent': 2, 'name': '22 to 24 years'},\n",
        "    # 'B01001011': {'indent': 2, 'name': '25 to 29 years'},\n",
        "    # 'B01001012': {'indent': 2, 'name': '30 to 34 years'},\n",
        "    #female\n",
        "    # 'B01001031': {'indent': 2, 'name': '18 and 19 years'},\n",
        "    # 'B01001032': {'indent': 2, 'name': '20 years'},\n",
        "    # 'B01001033': {'indent': 2, 'name': '21 years'},\n",
        "    # 'B01001034': {'indent': 2, 'name': '22 to 24 years'},\n",
        "    # 'B01001035': {'indent': 2, 'name': '25 to 29 years'},\n",
        "    # 'B01001036': {'indent': 2, 'name': '30 to 34 years'},\n",
        "# Hispanic Population Size \n",
        "    # 'B03002012': {'indent': 1, 'name': 'Hispanic or Latino:'}\n",
        "# Population size by Income Bracket\n",
        "    # 'B19001011': {'indent': 1, 'name': '$50,000 to $59,999'},\n",
        "    # 'B19001012': {'indent': 1, 'name': '$60,000 to $74,999'},"
      ],
      "execution_count": 0,
      "outputs": []
    },
    {
      "cell_type": "code",
      "metadata": {
        "id": "dFXo9W55cinP",
        "colab_type": "code",
        "outputId": "077c5122-be20-46df-b84e-1d3cf12de68d",
        "colab": {
          "base_uri": "https://localhost:8080/",
          "height": 123
        }
      },
      "source": [
        "# initialize variables\n",
        "income_list=[]\n",
        "income_target_pop_size=0\n",
        "\n",
        "age_list=[]\n",
        "age_target_pop_size=0\n",
        "\n",
        "hispanic_list=[]\n",
        "hispanic_pop_target_size=0\n",
        "\n",
        "metro_area_name_list=[]\n",
        "metro_area_total_population=[]\n",
        "\n",
        "#iterate through geoids and sum populations of interest.\n",
        "for i in geoid:\n",
        "    #record metro area name in a list\n",
        "    metro_area_name_list.append(parsedjson['geography'][i]['name'])\n",
        "    # aggregate age data by geoid\n",
        "    age_target_pop_size=0\n",
        "    for j in range(6):\n",
        "        age_target_pop_size+=( #male tables\n",
        "            parsedjson['data'][i]['B01001']['estimate']['B01001007']+\n",
        "            parsedjson['data'][i]['B01001']['estimate']['B01001008']+\n",
        "            parsedjson['data'][i]['B01001']['estimate']['B01001008']+\n",
        "            parsedjson['data'][i]['B01001']['estimate']['B01001009']+\n",
        "            parsedjson['data'][i]['B01001']['estimate']['B01001010']+\n",
        "            parsedjson['data'][i]['B01001']['estimate']['B01001011']+\n",
        "            parsedjson['data'][i]['B01001']['estimate']['B01001012']+\n",
        "            # female tables \n",
        "            parsedjson['data'][i]['B01001']['estimate']['%s'%('B010010'+str(31+j))]\n",
        "            )\n",
        "    age_list.append(age_target_pop_size)\n",
        "\n",
        "    # aggregate hispanic population data by geoid\n",
        "    hispanic_pop_target_size=(\n",
        "        parsedjson['data'][i]['B03002']['estimate']['B03002012']\n",
        "        )\n",
        "    hispanic_list.append(hispanic_pop_target_size)\n",
        "    hispanic_pop_target_size=0\n",
        "\n",
        "    # aggregate income bracket population data by geoid\n",
        "    income_target_pop_size=(\n",
        "        parsedjson['data'][i]['B19001']['estimate']['B19001011']+\n",
        "        parsedjson['data'][i]['B19001']['estimate']['B19001012']\n",
        "        )\n",
        "    income_list.append(income_target_pop_size)\n",
        "    income_target_pop_size=0\n",
        "\n",
        "    #Add the metro area toal population to the list\n",
        "    metro_area_total_population.append(parsedjson['data'][i]['B01001']['estimate']['B01001001'])\n",
        "\n",
        "print(metro_area_name_list)\n",
        "print(age_list)\n",
        "print(hispanic_list)\n",
        "print(income_list) \n",
        "print(metro_area_total_population)"
      ],
      "execution_count": 0,
      "outputs": [
        {
          "output_type": "stream",
          "text": [
            "['Abilene, TX Metro Area', 'Akron, OH Metro Area', 'Albany, GA Metro Area', 'Albany, OR Metro Area', 'Albany-Schenectady-Troy, NY Metro Area', 'Albuquerque, NM Metro Area', 'Alexandria, LA Metro Area', 'Allentown-Bethlehem-Easton, PA-NJ Metro Area', 'Altoona, PA Metro Area', 'Amarillo, TX Metro Area', 'Ames, IA Metro Area', 'Anchorage, AK Metro Area', 'Ann Arbor, MI Metro Area', 'Anniston-Oxford-Jacksonville, AL Metro Area', 'Appleton, WI Metro Area', 'Asheville, NC Metro Area', 'Athens-Clarke County, GA Metro Area', 'Atlanta-Sandy Springs-Roswell, GA Metro Area', 'Atlantic City-Hammonton, NJ Metro Area', 'Auburn-Opelika, AL Metro Area', 'Augusta-Richmond County, GA-SC Metro Area', 'Austin-Round Rock, TX Metro Area', 'Bakersfield, CA Metro Area', 'Baltimore-Columbia-Towson, MD Metro Area', 'Bangor, ME Metro Area', 'Barnstable Town, MA Metro Area', 'Baton Rouge, LA Metro Area', 'Battle Creek, MI Metro Area', 'Bay City, MI Metro Area', 'Beaumont-Port Arthur, TX Metro Area', 'Beckley, WV Metro Area', 'Bellingham, WA Metro Area', 'Bend-Redmond, OR Metro Area', 'Billings, MT Metro Area', 'Binghamton, NY Metro Area', 'Birmingham-Hoover, AL Metro Area', 'Bismarck, ND Metro Area', 'Blacksburg-Christiansburg-Radford, VA Metro Area', 'Bloomington, IL Metro Area', 'Bloomington, IN Metro Area', 'Bloomsburg-Berwick, PA Metro Area', 'Boise City, ID Metro Area', 'Boston-Cambridge-Newton, MA-NH Metro Area', 'Boulder, CO Metro Area', 'Bowling Green, KY Metro Area', 'Bremerton-Silverdale, WA Metro Area', 'Bridgeport-Stamford-Norwalk, CT Metro Area', 'Brownsville-Harlingen, TX Metro Area', 'Brunswick, GA Metro Area', 'Buffalo-Cheektowaga-Niagara Falls, NY Metro Area', 'Burlington, NC Metro Area', 'Burlington-South Burlington, VT Metro Area', 'California-Lexington Park, MD Metro Area', 'Canton-Massillon, OH Metro Area', 'Cape Coral-Fort Myers, FL Metro Area', 'Cape Girardeau, MO-IL Metro Area', 'Carbondale-Marion, IL Metro Area', 'Carson City, NV Metro Area', 'Casper, WY Metro Area', 'Cedar Rapids, IA Metro Area', 'Chambersburg-Waynesboro, PA Metro Area', 'Champaign-Urbana, IL Metro Area', 'Charleston, WV Metro Area', 'Charleston-North Charleston, SC Metro Area', 'Charlotte-Concord-Gastonia, NC-SC Metro Area', 'Charlottesville, VA Metro Area', 'Chattanooga, TN-GA Metro Area', 'Cheyenne, WY Metro Area', 'Chicago-Naperville-Elgin, IL-IN-WI Metro Area', 'Chico, CA Metro Area', 'Cincinnati, OH-KY-IN Metro Area', 'Clarksville, TN-KY Metro Area', 'Cleveland, TN Metro Area', 'Cleveland-Elyria, OH Metro Area', \"Coeur d'Alene, ID Metro Area\", 'College Station-Bryan, TX Metro Area', 'Colorado Springs, CO Metro Area', 'Columbia, MO Metro Area', 'Columbia, SC Metro Area', 'Columbus, GA-AL Metro Area', 'Columbus, IN Metro Area', 'Columbus, OH Metro Area', 'Corpus Christi, TX Metro Area', 'Corvallis, OR Metro Area', 'Crestview-Fort Walton Beach-Destin, FL Metro Area', 'Cumberland, MD-WV Metro Area', 'Dallas-Fort Worth-Arlington, TX Metro Area', 'Dalton, GA Metro Area', 'Danville, IL Metro Area', 'Daphne-Fairhope-Foley, AL Metro Area', 'Davenport-Moline-Rock Island, IA-IL Metro Area', 'Dayton, OH Metro Area', 'Decatur, AL Metro Area', 'Decatur, IL Metro Area', 'Deltona-Daytona Beach-Ormond Beach, FL Metro Area', 'Denver-Aurora-Lakewood, CO Metro Area', 'Des Moines-West Des Moines, IA Metro Area', 'Detroit-Warren-Dearborn, MI Metro Area', 'Dothan, AL Metro Area', 'Dover, DE Metro Area', 'Dubuque, IA Metro Area', 'Duluth, MN-WI Metro Area', 'Durham-Chapel Hill, NC Metro Area', 'East Stroudsburg, PA Metro Area', 'Eau Claire, WI Metro Area', 'El Centro, CA Metro Area', 'Elizabethtown-Fort Knox, KY Metro Area', 'Elkhart-Goshen, IN Metro Area', 'Elmira, NY Metro Area', 'El Paso, TX Metro Area', 'Enid, OK Metro Area', 'Erie, PA Metro Area', 'Eugene, OR Metro Area', 'Evansville, IN-KY Metro Area', 'Fairbanks, AK Metro Area', 'Fargo, ND-MN Metro Area', 'Farmington, NM Metro Area', 'Fayetteville, NC Metro Area', 'Fayetteville-Springdale-Rogers, AR-MO Metro Area', 'Flagstaff, AZ Metro Area', 'Flint, MI Metro Area', 'Florence, SC Metro Area', 'Florence-Muscle Shoals, AL Metro Area', 'Fond du Lac, WI Metro Area', 'Fort Collins, CO Metro Area', 'Fort Smith, AR-OK Metro Area', 'Fort Wayne, IN Metro Area', 'Fresno, CA Metro Area', 'Gadsden, AL Metro Area', 'Gainesville, FL Metro Area', 'Gainesville, GA Metro Area', 'Gettysburg, PA Metro Area', 'Glens Falls, NY Metro Area', 'Goldsboro, NC Metro Area', 'Grand Forks, ND-MN Metro Area', 'Grand Island, NE Metro Area', 'Grand Junction, CO Metro Area', 'Grand Rapids-Wyoming, MI Metro Area', 'Grants Pass, OR Metro Area', 'Great Falls, MT Metro Area', 'Greeley, CO Metro Area', 'Green Bay, WI Metro Area', 'Greensboro-High Point, NC Metro Area', 'Greenville, NC Metro Area', 'Greenville-Anderson-Mauldin, SC Metro Area', 'Gulfport-Biloxi-Pascagoula, MS Metro Area', 'Hagerstown-Martinsburg, MD-WV Metro Area', 'Hammond, LA Metro Area', 'Hanford-Corcoran, CA Metro Area', 'Harrisburg-Carlisle, PA Metro Area', 'Harrisonburg, VA Metro Area', 'Hartford-West Hartford-East Hartford, CT Metro Area', 'Hattiesburg, MS Metro Area', 'Hickory-Lenoir-Morganton, NC Metro Area', 'Hilton Head Island-Bluffton-Beaufort, SC Metro Area', 'Hinesville, GA Metro Area', 'Homosassa Springs, FL Metro Area', 'Hot Springs, AR Metro Area', 'Houma-Thibodaux, LA Metro Area', 'Houston-The Woodlands-Sugar Land, TX Metro Area', 'Huntington-Ashland, WV-KY-OH Metro Area', 'Huntsville, AL Metro Area', 'Idaho Falls, ID Metro Area', 'Indianapolis-Carmel-Anderson, IN Metro Area', 'Iowa City, IA Metro Area', 'Ithaca, NY Metro Area', 'Jackson, MI Metro Area', 'Jackson, MS Metro Area', 'Jackson, TN Metro Area', 'Jacksonville, FL Metro Area', 'Jacksonville, NC Metro Area', 'Janesville-Beloit, WI Metro Area', 'Jefferson City, MO Metro Area', 'Johnson City, TN Metro Area', 'Johnstown, PA Metro Area', 'Jonesboro, AR Metro Area', 'Joplin, MO Metro Area', 'Kahului-Wailuku-Lahaina, HI Metro Area', 'Kalamazoo-Portage, MI Metro Area', 'Kankakee, IL Metro Area', 'Kansas City, MO-KS Metro Area', 'Kennewick-Richland, WA Metro Area', 'Killeen-Temple, TX Metro Area', 'Kingsport-Bristol-Bristol, TN-VA Metro Area', 'Kingston, NY Metro Area', 'Knoxville, TN Metro Area', 'Kokomo, IN Metro Area', 'La Crosse-Onalaska, WI-MN Metro Area', 'Lafayette, LA Metro Area', 'Lafayette-West Lafayette, IN Metro Area', 'Lake Charles, LA Metro Area', 'Lake Havasu City-Kingman, AZ Metro Area', 'Lakeland-Winter Haven, FL Metro Area', 'Lancaster, PA Metro Area', 'Lansing-East Lansing, MI Metro Area', 'Laredo, TX Metro Area', 'Las Cruces, NM Metro Area', 'Las Vegas-Henderson-Paradise, NV Metro Area', 'Lawrence, KS Metro Area', 'Lawton, OK Metro Area', 'Lebanon, PA Metro Area', 'Lewiston, ID-WA Metro Area', 'Lewiston-Auburn, ME Metro Area', 'Lexington-Fayette, KY Metro Area', 'Lima, OH Metro Area', 'Lincoln, NE Metro Area', 'Little Rock-North Little Rock-Conway, AR Metro Area', 'Logan, UT-ID Metro Area', 'Longview, TX Metro Area', 'Longview, WA Metro Area', 'Los Angeles-Long Beach-Anaheim, CA Metro Area', 'Louisville/Jefferson County, KY-IN Metro Area', 'Lubbock, TX Metro Area', 'Lynchburg, VA Metro Area', 'Macon-Bibb County, GA Metro Area', 'Madera, CA Metro Area', 'Madison, WI Metro Area', 'Manchester-Nashua, NH Metro Area', 'Manhattan, KS Metro Area', 'Mankato-North Mankato, MN Metro Area', 'Mansfield, OH Metro Area', 'McAllen-Edinburg-Mission, TX Metro Area', 'Medford, OR Metro Area', 'Memphis, TN-MS-AR Metro Area', 'Merced, CA Metro Area', 'Miami-Fort Lauderdale-West Palm Beach, FL Metro Area', 'Michigan City-La Porte, IN Metro Area', 'Midland, MI Metro Area', 'Midland, TX Metro Area', 'Milwaukee-Waukesha-West Allis, WI Metro Area', 'Minneapolis-St. Paul-Bloomington, MN-WI Metro Area', 'Missoula, MT Metro Area', 'Mobile, AL Metro Area', 'Modesto, CA Metro Area', 'Monroe, LA Metro Area', 'Monroe, MI Metro Area', 'Montgomery, AL Metro Area', 'Morgantown, WV Metro Area', 'Morristown, TN Metro Area', 'Mount Vernon-Anacortes, WA Metro Area', 'Muncie, IN Metro Area', 'Muskegon, MI Metro Area', 'Myrtle Beach-Conway-North Myrtle Beach, SC-NC Metro Area', 'Napa, CA Metro Area', 'Naples-Immokalee-Marco Island, FL Metro Area', 'Nashville-Davidson--Murfreesboro--Franklin, TN Metro Area', 'New Bern, NC Metro Area', 'New Haven-Milford, CT Metro Area', 'New Orleans-Metairie, LA Metro Area', 'New York-Newark-Jersey City, NY-NJ-PA Metro Area', 'Niles-Benton Harbor, MI Metro Area', 'North Port-Sarasota-Bradenton, FL Metro Area', 'Norwich-New London, CT Metro Area', 'Ocala, FL Metro Area', 'Ocean City, NJ Metro Area', 'Odessa, TX Metro Area', 'Ogden-Clearfield, UT Metro Area', 'Oklahoma City, OK Metro Area', 'Olympia-Tumwater, WA Metro Area', 'Omaha-Council Bluffs, NE-IA Metro Area', 'Orlando-Kissimmee-Sanford, FL Metro Area', 'Oshkosh-Neenah, WI Metro Area', 'Owensboro, KY Metro Area', 'Oxnard-Thousand Oaks-Ventura, CA Metro Area', 'Palm Bay-Melbourne-Titusville, FL Metro Area', 'Panama City, FL Metro Area', 'Parkersburg-Vienna, WV Metro Area', 'Pensacola-Ferry Pass-Brent, FL Metro Area', 'Peoria, IL Metro Area', 'Philadelphia-Camden-Wilmington, PA-NJ-DE-MD Metro Area', 'Phoenix-Mesa-Scottsdale, AZ Metro Area', 'Pine Bluff, AR Metro Area', 'Pittsburgh, PA Metro Area', 'Pittsfield, MA Metro Area', 'Pocatello, ID Metro Area', 'Portland-South Portland, ME Metro Area', 'Portland-Vancouver-Hillsboro, OR-WA Metro Area', 'Port St. Lucie, FL Metro Area', 'Prescott, AZ Metro Area', 'Providence-Warwick, RI-MA Metro Area', 'Provo-Orem, UT Metro Area', 'Pueblo, CO Metro Area', 'Punta Gorda, FL Metro Area', 'Racine, WI Metro Area', 'Raleigh, NC Metro Area', 'Rapid City, SD Metro Area', 'Reading, PA Metro Area', 'Redding, CA Metro Area', 'Reno, NV Metro Area', 'Richmond, VA Metro Area', 'Riverside-San Bernardino-Ontario, CA Metro Area', 'Roanoke, VA Metro Area', 'Rochester, MN Metro Area', 'Rochester, NY Metro Area', 'Rockford, IL Metro Area', 'Rocky Mount, NC Metro Area', 'Rome, GA Metro Area', 'Sacramento--Roseville--Arden-Arcade, CA Metro Area', 'Saginaw, MI Metro Area', 'St. Cloud, MN Metro Area', 'St. George, UT Metro Area', 'St. Joseph, MO-KS Metro Area', 'St. Louis, MO-IL Metro Area', 'Salem, OR Metro Area', 'Salinas, CA Metro Area', 'Salisbury, MD-DE Metro Area', 'Salt Lake City, UT Metro Area', 'San Angelo, TX Metro Area', 'San Antonio-New Braunfels, TX Metro Area', 'San Diego-Carlsbad, CA Metro Area', 'San Francisco-Oakland-Hayward, CA Metro Area', 'San Jose-Sunnyvale-Santa Clara, CA Metro Area', 'San Luis Obispo-Paso Robles-Arroyo Grande, CA Metro Area', 'Santa Cruz-Watsonville, CA Metro Area', 'Santa Fe, NM Metro Area', 'Santa Maria-Santa Barbara, CA Metro Area', 'Santa Rosa, CA Metro Area', 'Savannah, GA Metro Area', 'Scranton--Wilkes-Barre--Hazleton, PA Metro Area', 'Seattle-Tacoma-Bellevue, WA Metro Area', 'Sebastian-Vero Beach, FL Metro Area', 'Sebring, FL Metro Area', 'Sheboygan, WI Metro Area', 'Sherman-Denison, TX Metro Area', 'Shreveport-Bossier City, LA Metro Area', 'Sierra Vista-Douglas, AZ Metro Area', 'Sioux City, IA-NE-SD Metro Area', 'Sioux Falls, SD Metro Area', 'South Bend-Mishawaka, IN-MI Metro Area', 'Spartanburg, SC Metro Area', 'Spokane-Spokane Valley, WA Metro Area', 'Springfield, IL Metro Area', 'Springfield, MA Metro Area', 'Springfield, MO Metro Area', 'Springfield, OH Metro Area', 'State College, PA Metro Area', 'Staunton-Waynesboro, VA Metro Area', 'Stockton-Lodi, CA Metro Area', 'Sumter, SC Metro Area', 'Syracuse, NY Metro Area', 'Tallahassee, FL Metro Area', 'Tampa-St. Petersburg-Clearwater, FL Metro Area', 'Terre Haute, IN Metro Area', 'Texarkana, TX-AR Metro Area', 'The Villages, FL Metro Area', 'Toledo, OH Metro Area', 'Topeka, KS Metro Area', 'Trenton, NJ Metro Area', 'Tucson, AZ Metro Area', 'Tulsa, OK Metro Area', 'Tuscaloosa, AL Metro Area', 'Tyler, TX Metro Area', 'Urban Honolulu, HI Metro Area', 'Utica-Rome, NY Metro Area', 'Valdosta, GA Metro Area', 'Vallejo-Fairfield, CA Metro Area', 'Victoria, TX Metro Area', 'Vineland-Bridgeton, NJ Metro Area', 'Virginia Beach-Norfolk-Newport News, VA-NC Metro Area', 'Visalia-Porterville, CA Metro Area', 'Waco, TX Metro Area', 'Walla Walla, WA Metro Area', 'Warner Robins, GA Metro Area', 'Washington-Arlington-Alexandria, DC-VA-MD-WV Metro Area', 'Waterloo-Cedar Falls, IA Metro Area', 'Watertown-Fort Drum, NY Metro Area', 'Wausau, WI Metro Area', 'Weirton-Steubenville, WV-OH Metro Area', 'Wenatchee, WA Metro Area', 'Wheeling, WV-OH Metro Area', 'Wichita, KS Metro Area', 'Wichita Falls, TX Metro Area', 'Williamsport, PA Metro Area', 'Wilmington, NC Metro Area', 'Winchester, VA-WV Metro Area', 'Winston-Salem, NC Metro Area', 'Worcester, MA-CT Metro Area', 'Yakima, WA Metro Area', 'York-Hanover, PA Metro Area', 'Youngstown-Warren-Boardman, OH-PA Metro Area', 'Yuba City, CA Metro Area', 'Yuma, AZ Metro Area']\n",
            "[183792.0, 603500.0, 131300.0, 94602.0, 796467.0, 788349.0, 132188.0, 663581.0, 95249.0, 243575.0, 177573.0, 411249.0, 454711.0, 96990.0, 184072.0, 319780.0, 256757.0, 4835196.0, 216563.0, 206307.0, 517891.0, 2030966.0, 895125.0, 2410213.0, 142117.0, 130239.0, 813141.0, 103397.0, 78960.0, 364916.0, 89934.0, 220730.0, 128022.0, 130356.0, 226270.0, 925035.0, 116639.0, 255336.0, 207756.0, 250227.0, 77914.0, 573951.0, 4363271.0, 353069.0, 172903.0, 251731.0, 718214.0, 359112.0, 84025.0, 971970.0, 123093.0, 219446.0, 95124.0, 300776.0, 466199.0, 91523.0, 139639.0, 43801.0, 73039.0, 220637.0, 110021.0, 335691.0, 159597.0, 702283.0, 1973748.0, 221420.0, 443263.0, 93916.0, 8350659.0, 236381.0, 1801694.0, 334276.0, 95768.0, 1598905.0, 114552.0, 402412.0, 715925.0, 230890.0, 780089.0, 321983.0, 69119.0, 1856800.0, 405115.0, 128526.0, 246524.0, 94807.0, 6217565.0, 118839.0, 60327.0, 139163.0, 302940.0, 680759.0, 114609.0, 82576.0, 448682.0, 2509898.0, 534156.0, 3385226.0, 108655.0, 154975.0, 84241.0, 253560.0, 523025.0, 136943.0, 165228.0, 178126.0, 130297.0, 164888.0, 69429.0, 835475.0, 53293.0, 244125.0, 350411.0, 255867.0, 134754.0, 279318.0, 110618.0, 464939.0, 496235.0, 172301.0, 309617.0, 155512.0, 118428.0, 77418.0, 363287.0, 221506.0, 347937.0, 936871.0, 75975.0, 376678.0, 158948.0, 77523.0, 97777.0, 110938.0, 131428.0, 66102.0, 130523.0, 945403.0, 53584.0, 75915.0, 259061.0, 257300.0, 617685.0, 201634.0, 739975.0, 329340.0, 209814.0, 121363.0, 175633.0, 465562.0, 149418.0, 1035911.0, 143864.0, 268267.0, 178373.0, 98944.0, 71819.0, 68873.0, 185038.0, 6021241.0, 278873.0, 377393.0, 114233.0, 1663272.0, 220523.0, 167131.0, 131147.0, 499535.0, 108442.0, 1239554.0, 379236.0, 126965.0, 132780.0, 168167.0, 102406.0, 119914.0, 147283.0, 122415.0, 338601.0, 93058.0, 1702236.0, 245244.0, 494365.0, 210612.0, 147508.0, 720229.0, 59981.0, 138178.0, 436496.0, 310456.0, 177393.0, 128303.0, 514042.0, 436593.0, 511910.0, 251681.0, 220226.0, 1839758.0, 179876.0, 151349.0, 102120.0, 47443.0, 82035.0, 497436.0, 93790.0, 364326.0, 641945.0, 157976.0, 184564.0, 75185.0, 12585318.0, 1039174.0, 373905.0, 238727.0, 183394.0, 131934.0, 661849.0, 330292.0, 185073.0, 128576.0, 99796.0, 755603.0, 156450.0, 1147277.0, 265704.0, 4884682.0, 96116.0, 67701.0, 168793.0, 1332849.0, 3031810.0, 129501.0, 348139.0, 482892.0, 154408.0, 108633.0, 324824.0, 193156.0, 85647.0, 92954.0, 131820.0, 138947.0, 295179.0, 114461.0, 227833.0, 1626558.0, 129870.0, 739454.0, 1086481.0, 17561652.0, 113848.0, 448138.0, 247704.0, 222562.0, 68015.0, 163287.0, 571617.0, 1272137.0, 228274.0, 795354.0, 2202653.0, 162169.0, 88182.0, 738015.0, 398211.0, 175003.0, 63932.0, 464343.0, 296029.0, 5213993.0, 4047594.0, 86060.0, 1891263.0, 95375.0, 81776.0, 399789.0, 2043366.0, 301252.0, 134573.0, 1407488.0, 672187.0, 134030.0, 84756.0, 148389.0, 1077701.0, 124120.0, 340209.0, 138017.0, 399782.0, 1084296.0, 4177182.0, 232094.0, 165626.0, 937864.0, 258649.0, 107567.0, 79691.0, 2005849.0, 158682.0, 201051.0, 121178.0, 118630.0, 2287030.0, 356767.0, 423593.0, 303629.0, 1121215.0, 128756.0, 2237669.0, 3454324.0, 4111438.0, 1811157.0, 307223.0, 284486.0, 103031.0, 501523.0, 408723.0, 370009.0, 451352.0, 3466838.0, 87614.0, 59711.0, 86896.0, 96977.0, 378839.0, 108995.0, 134915.0, 223205.0, 272768.0, 262246.0, 481866.0, 158815.0, 607890.0, 424664.0, 99971.0, 262252.0, 90033.0, 643312.0, 98461.0, 578821.0, 461792.0, 2289324.0, 168733.0, 123588.0, 45593.0, 550238.0, 170735.0, 337904.0, 940944.0, 815261.0, 269520.0, 191518.0, 976117.0, 246429.0, 165786.0, 395812.0, 83762.0, 143493.0, 1752213.0, 428061.0, 269685.0, 63683.0, 169003.0, 5350262.0, 169513.0, 146685.0, 102364.0, 85125.0, 91123.0, 109690.0, 549948.0, 169331.0, 99180.0, 250397.0, 102088.0, 490989.0, 784600.0, 214739.0, 337205.0, 409884.0, 154255.0, 207399.0]\n",
            "[38892.0, 13318.0, 4057.0, 10483.0, 42999.0, 438681.0, 5043.0, 131402.0, 1467.0, 72974.0, 3133.0, 31081.0, 16405.0, 4121.0, 9685.0, 30180.0, 16851.0, 600033.0, 50510.0, 5813.0, 30654.0, 643813.0, 458907.0, 152566.0, 1935.0, 5869.0, 31535.0, 6709.0, 5428.0, 59164.0, 1692.0, 19198.0, 13684.0, 8674.0, 8698.0, 49370.0, 3047.0, 4750.0, 8630.0, 5043.0, 2187.0, 90422.0, 505477.0, 43558.0, 7218.0, 18954.0, 180379.0, 375256.0, 6209.0, 53897.0, 19453.0, 4367.0, 5377.0, 7553.0, 141544.0, 1998.0, 4219.0, 12665.0, 6666.0, 7516.0, 8063.0, 12566.0, 2139.0, 40011.0, 238718.0, 11350.0, 23308.0, 13839.0, 2081524.0, 35445.0, 65002.0, 24384.0, 6340.0, 113430.0, 6560.0, 60615.0, 112798.0, 5729.0, 43519.0, 20872.0, 5253.0, 79649.0, 270529.0, 6307.0, 20923.0, 1495.0, 2018504.0, 41174.0, 3836.0, 9029.0, 32468.0, 20526.0, 10186.0, 2327.0, 77239.0, 640988.0, 44687.0, 183958.0, 4805.0, 11820.0, 2228.0, 4382.0, 62505.0, 24980.0, 3444.0, 150108.0, 7559.0, 31179.0, 2580.0, 689074.0, 7267.0, 11152.0, 30653.0, 7087.0, 7714.0, 6878.0, 25468.0, 44076.0, 81287.0, 19265.0, 13585.0, 4739.0, 3598.0, 5072.0, 36993.0, 27039.0, 27953.0, 509442.0, 3794.0, 25006.0, 53644.0, 6891.0, 3152.0, 14009.0, 4752.0, 17157.0, 21177.0, 95615.0, 6031.0, 3461.0, 82920.0, 22671.0, 61238.0, 10671.0, 57417.0, 20800.0, 11184.0, 5274.0, 80715.0, 32822.0, 15021.0, 172449.0, 4023.0, 25661.0, 23824.0, 9766.0, 7528.0, 5263.0, 9979.0, 2432651.0, 4107.0, 22057.0, 16911.0, 129654.0, 9169.0, 5025.0, 5404.0, 13071.0, 5462.0, 118640.0, 23474.0, 13573.0, 3847.0, 5890.0, 2096.0, 5779.0, 12108.0, 18134.0, 20643.0, 11142.0, 184178.0, 86493.0, 98240.0, 4750.0, 17714.0, 30808.0, 2602.0, 2284.0, 18800.0, 16357.0, 6772.0, 32591.0, 134399.0, 53792.0, 30814.0, 257482.0, 144782.0, 648211.0, 7109.0, 16046.0, 16795.0, 2298.0, 1927.0, 29861.0, 2995.0, 21047.0, 37443.0, 13537.0, 34271.0, 8936.0, 5972751.0, 57234.0, 108764.0, 6582.0, 6030.0, 87852.0, 36271.0, 25429.0, 7363.0, 3562.0, 2151.0, 770794.0, 25928.0, 71485.0, 155650.0, 2663235.0, 6935.0, 2157.0, 71624.0, 164219.0, 201417.0, 3533.0, 11416.0, 240816.0, 4461.0, 5162.0, 11482.0, 2886.0, 9105.0, 21851.0, 2661.0, 9412.0, 24394.0, 47547.0, 96948.0, 127924.0, 8267.0, 148446.0, 109225.0, 4863602.0, 8080.0, 93345.0, 27186.0, 42467.0, 6954.0, 91475.0, 79596.0, 173160.0, 22980.0, 91986.0, 693930.0, 6654.0, 3078.0, 358244.0, 55042.0, 11582.0, 965.0, 25671.0, 12681.0, 546680.0, 1391821.0, 2057.0, 38230.0, 5461.0, 6954.0, 9499.0, 276917.0, 74701.0, 31508.0, 194823.0, 66026.0, 69809.0, 11873.0, 24763.0, 132530.0, 6563.0, 81398.0, 17218.0, 106714.0, 74069.0, 2239029.0, 11519.0, 9158.0, 75926.0, 46318.0, 8649.0, 10224.0, 481853.0, 16052.0, 5803.0, 15655.0, 6600.0, 82117.0, 96644.0, 250913.0, 27652.0, 205844.0, 45771.0, 1308911.0, 1095458.0, 1014429.0, 532814.0, 62174.0, 91096.0, 75514.0, 198556.0, 132018.0, 22389.0, 46861.0, 364010.0, 17872.0, 18893.0, 7085.0, 15999.0, 16672.0, 44275.0, 26322.0, 9904.0, 24299.0, 19691.0, 28394.0, 4539.0, 120936.0, 14164.0, 4300.0, 4559.0, 4125.0, 295606.0, 4091.0, 26285.0, 23840.0, 549477.0, 3657.0, 8682.0, 6608.0, 40053.0, 23090.0, 63157.0, 368612.0, 92047.0, 8150.0, 42128.0, 95070.0, 13823.0, 8690.0, 112098.0, 44814.0, 45966.0, 110305.0, 291867.0, 66949.0, 12928.0, 12330.0, 930161.0, 6104.0, 8465.0, 3624.0, 1536.0, 33236.0, 1374.0, 80631.0, 25741.0, 2204.0, 15774.0, 11480.0, 65744.0, 101421.0, 120080.0, 30643.0, 17895.0, 49389.0, 128465.0]\n",
            "[11570.0, 52446.0, 9529.0, 9273.0, 62094.0, 61709.0, 8962.0, 60100.0, 9564.0, 18279.0, 5892.0, 23865.0, 23155.0, 8723.0, 18415.0, 36075.0, 11347.0, 370708.0, 17183.0, 9693.0, 38268.0, 130910.0, 46583.0, 171008.0, 11794.0, 16864.0, 50852.0, 10516.0, 8681.0, 26754.0, 8755.0, 15758.0, 13700.0, 14232.0, 18155.0, 78459.0, 9580.0, 13237.0, 12867.0, 10919.0, 6741.0, 49110.0, 263815.0, 19315.0, 12251.0, 19040.0, 45146.0, 19756.0, 7025.0, 83257.0, 10464.0, 16135.0, 5961.0, 31164.0, 52794.0, 7369.0, 8451.0, 4174.0, 6570.0, 20192.0, 12580.0, 16048.0, 17223.0, 52801.0, 165044.0, 16372.0, 38747.0, 7686.0, 584377.0, 14867.0, 152157.0, 21454.0, 8573.0, 149824.0, 12858.0, 14360.0, 51051.0, 12219.0, 58441.0, 20450.0, 6240.0, 143300.0, 29671.0, 5481.0, 20027.0, 7821.0, 453796.0, 9685.0, 6235.0, 14505.0, 29968.0, 60328.0, 11419.0, 8249.0, 47490.0, 191382.0, 46881.0, 292475.0, 9848.0, 12978.0, 7764.0, 22698.0, 37518.0, 11647.0, 12751.0, 7454.0, 11363.0, 15691.0, 6498.0, 47389.0, 4932.0, 20364.0, 27700.0, 23138.0, 6551.0, 18055.0, 7371.0, 26639.0, 36479.0, 8271.0, 30682.0, 13783.0, 11709.0, 8921.0, 22240.0, 19513.0, 34371.0, 51838.0, 7252.0, 17759.0, 12010.0, 7853.0, 10079.0, 8749.0, 7221.0, 7130.0, 12157.0, 78351.0, 6647.0, 6316.0, 19272.0, 24326.0, 53507.0, 11781.0, 59809.0, 28318.0, 19759.0, 8060.0, 7361.0, 45716.0, 9561.0, 75172.0, 9562.0, 26959.0, 14875.0, 6227.0, 11703.0, 7420.0, 12753.0, 391041.0, 25791.0, 29405.0, 10177.0, 139459.0, 10968.0, 7036.0, 11989.0, 35949.0, 8659.0, 102142.0, 13863.0, 12935.0, 12016.0, 15087.0, 10498.0, 9062.0, 13401.0, 9741.0, 24299.0, 8581.0, 150204.0, 19064.0, 30931.0, 23648.0, 12774.0, 62389.0, 6305.0, 10751.0, 30054.0, 16150.0, 13650.0, 16113.0, 44090.0, 41580.0, 35313.0, 11460.0, 11970.0, 147559.0, 8089.0, 8643.0, 11649.0, 5225.0, 9031.0, 35653.0, 8301.0, 24386.0, 52183.0, 8571.0, 14413.0, 7531.0, 700681.0, 93391.0, 20527.0, 19526.0, 13735.0, 7930.0, 49068.0, 26735.0, 6742.0, 7012.0, 9173.0, 37254.0, 17049.0, 87842.0, 14635.0, 355922.0, 8229.0, 6339.0, 9846.0, 111518.0, 238037.0, 8714.0, 27709.0, 31551.0, 10296.0, 11365.0, 24740.0, 9048.0, 8530.0, 9503.0, 8102.0, 13538.0, 35655.0, 7911.0, 25847.0, 133189.0, 9863.0, 54857.0, 79355.0, 1050888.0, 11145.0, 60404.0, 20498.0, 26509.0, 7492.0, 9678.0, 44108.0, 96677.0, 21906.0, 66791.0, 160627.0, 14571.0, 8552.0, 44220.0, 44581.0, 14170.0, 7405.0, 36084.0, 29073.0, 361924.0, 304294.0, 6130.0, 179604.0, 9559.0, 5409.0, 41270.0, 164951.0, 32658.0, 19766.0, 101896.0, 33033.0, 11343.0, 14374.0, 15052.0, 84087.0, 12028.0, 28959.0, 12725.0, 33120.0, 85865.0, 243831.0, 25623.0, 16137.0, 78831.0, 26117.0, 10497.0, 6474.0, 140820.0, 13910.0, 15226.0, 11657.0, 9975.0, 204341.0, 29313.0, 23913.0, 29256.0, 77480.0, 8046.0, 150415.0, 187286.0, 221715.0, 79444.0, 18657.0, 14582.0, 11741.0, 23526.0, 34122.0, 25022.0, 40872.0, 243764.0, 10516.0, 7670.0, 10262.0, 8452.0, 27769.0, 9153.0, 13602.0, 18878.0, 22819.0, 24274.0, 40775.0, 16183.0, 38706.0, 34983.0, 10109.0, 9889.0, 9877.0, 40801.0, 7723.0, 47469.0, 25613.0, 213917.0, 12556.0, 9630.0, 11168.0, 42745.0, 19042.0, 20069.0, 71995.0, 71503.0, 15193.0, 13923.0, 53301.0, 22560.0, 8243.0, 25168.0, 6192.0, 8622.0, 124349.0, 23286.0, 15390.0, 4894.0, 13459.0, 315632.0, 13065.0, 8705.0, 10265.0, 8995.0, 8520.0, 9702.0, 48127.0, 10499.0, 9080.0, 19929.0, 9933.0, 46978.0, 57564.0, 16900.0, 35863.0, 42774.0, 11174.0, 13629.0]\n",
            "[169000.0, 703398.0, 153776.0, 121074.0, 881862.0, 905049.0, 154385.0, 832790.0, 124736.0, 261827.0, 95888.0, 399360.0, 361509.0, 115527.0, 233025.0, 445625.0, 202780.0, 5700990.0, 272926.0, 156597.0, 589519.0, 2000590.0, 878744.0, 2792050.0, 152284.0, 213900.0, 828741.0, 134327.0, 105350.0, 408663.0, 121699.0, 212738.0, 175321.0, 167545.0, 245446.0, 1144097.0, 128673.0, 181863.0, 189407.0, 165393.0, 84917.0, 677346.0, 4771936.0, 316782.0, 169250.0, 258903.0, 947328.0, 420201.0, 115939.0, 1136670.0, 157844.0, 216751.0, 110979.0, 402098.0, 700165.0, 97136.0, 126592.0, 54219.0, 81023.0, 266122.0, 153003.0, 237849.0, 219964.0, 744195.0, 2427024.0, 228825.0, 548359.0, 97031.0, 9549229.0, 225207.0, 2156723.0, 278844.0, 120388.0, 2062764.0, 150128.0, 248554.0, 698595.0, 174589.0, 808377.0, 309979.0, 81024.0, 2023695.0, 450183.0, 88249.0, 261048.0, 100012.0, 7104415.0, 143407.0, 79207.0, 203360.0, 383141.0, 800893.0, 152445.0, 107587.0, 623675.0, 2798684.0, 623113.0, 4304613.0, 147790.0, 173145.0, 96571.0, 279205.0, 550281.0, 167306.0, 165833.0, 179957.0, 150253.0, 202924.0, 86883.0, 838527.0, 62421.0, 277794.0, 363471.0, 315263.0, 100031.0, 232660.0, 128221.0, 385337.0, 514166.0, 138639.0, 410881.0, 206109.0, 147025.0, 102082.0, 330976.0, 280705.0, 429060.0, 971616.0, 103132.0, 277056.0, 192865.0, 101589.0, 126884.0, 124496.0, 101694.0, 84596.0, 148798.0, 1039182.0, 84514.0, 81816.0, 285729.0, 315847.0, 751590.0, 176484.0, 872463.0, 388082.0, 261156.0, 128850.0, 150183.0, 565008.0, 131717.0, 1213123.0, 148399.0, 364044.0, 206781.0, 79977.0, 141373.0, 97994.0, 211179.0, 6636208.0, 360603.0, 444908.0, 140427.0, 1989032.0, 166520.0, 104415.0, 158989.0, 578565.0, 129538.0, 1447884.0, 192685.0, 161226.0, 151056.0, 200767.0, 135871.0, 128344.0, 176759.0, 164180.0, 335020.0, 110801.0, 2088830.0, 279653.0, 432797.0, 306745.0, 180129.0, 862490.0, 82457.0, 136291.0, 487633.0, 214760.0, 205559.0, 204691.0, 652256.0, 536494.0, 472092.0, 269624.0, 213849.0, 2112436.0, 117806.0, 129066.0, 137616.0, 62273.0, 107317.0, 500689.0, 104157.0, 323402.0, 730346.0, 133408.0, 216934.0, 103590.0, 13261538.0, 1278203.0, 309722.0, 258995.0, 229966.0, 154440.0, 640072.0, 406371.0, 98884.0, 99244.0, 121533.0, 839539.0, 212070.0, 1344058.0, 267390.0, 6019790.0, 110839.0, 83489.0, 165430.0, 1575101.0, 3526149.0, 114231.0, 414328.0, 535684.0, 178970.0, 149619.0, 373507.0, 137475.0, 116352.0, 121725.0, 115938.0, 172707.0, 432772.0, 141005.0, 356774.0, 1830410.0, 125953.0, 862127.0, 1260660.0, 20192042.0, 154948.0, 768381.0, 270772.0, 343778.0, 94549.0, 155744.0, 642274.0, 1353504.0, 269885.0, 914190.0, 2390859.0, 169540.0, 117319.0, 847834.0, 568183.0, 196135.0, 91816.0, 476702.0, 377258.0, 6065644.0, 4561038.0, 93590.0, 2348143.0, 127751.0, 84113.0, 525776.0, 2382037.0, 454482.0, 220972.0, 1613154.0, 587190.0, 163368.0, 173236.0, 195101.0, 1273985.0, 143711.0, 415500.0, 178919.0, 449442.0, 1270158.0, 4476222.0, 313069.0, 214485.0, 1080653.0, 341150.0, 148157.0, 96471.0, 2268005.0, 193803.0, 194660.0, 155577.0, 127137.0, 2804998.0, 410119.0, 433168.0, 394925.0, 1170057.0, 118498.0, 2377507.0, 3283665.0, 4641820.0, 1969897.0, 280119.0, 273263.0, 147514.0, 442996.0, 500943.0, 377476.0, 557942.0, 3735216.0, 147981.0, 100177.0, 115094.0, 126146.0, 443974.0, 126516.0, 168647.0, 250564.0, 320010.0, 325504.0, 547688.0, 210550.0, 630385.0, 455133.0, 135520.0, 160646.0, 120283.0, 724153.0, 107379.0, 659262.0, 377674.0, 2978209.0, 170642.0, 149889.0, 116754.0, 605204.0, 233382.0, 373362.0, 1007257.0, 977869.0, 239589.0, 222277.0, 990060.0, 295267.0, 143969.0, 434981.0, 99028.0, 154952.0, 1717708.0, 458809.0, 263009.0, 63861.0, 188764.0, 6090196.0, 170055.0, 116567.0, 135293.0, 120337.0, 115723.0, 143801.0, 642339.0, 150940.0, 115398.0, 277496.0, 134712.0, 658195.0, 934923.0, 248279.0, 442216.0, 548821.0, 170227.0, 204281.0]\n"
          ],
          "name": "stdout"
        }
      ]
    },
    {
      "cell_type": "code",
      "metadata": {
        "id": "YaEevEaaHptB",
        "colab_type": "code",
        "outputId": "bcdf4e07-2913-4202-99ee-408cf8016b03",
        "colab": {
          "base_uri": "https://localhost:8080/",
          "height": 261
        }
      },
      "source": [
        "df=pd.DataFrame()\n",
        "df['metro_area']=metro_area_name_list\n",
        "df['PARAM1_pop_in_target_income']=income_list\n",
        "df['PARAM2_pop_in_target_age']=age_list\n",
        "df['PARAM3_pop_hispanic']=hispanic_list\n",
        "df['metro_area_total_pop']=metro_area_total_population\n",
        "df.head(4)"
      ],
      "execution_count": 0,
      "outputs": [
        {
          "output_type": "execute_result",
          "data": {
            "text/html": [
              "<div>\n",
              "<style scoped>\n",
              "    .dataframe tbody tr th:only-of-type {\n",
              "        vertical-align: middle;\n",
              "    }\n",
              "\n",
              "    .dataframe tbody tr th {\n",
              "        vertical-align: top;\n",
              "    }\n",
              "\n",
              "    .dataframe thead th {\n",
              "        text-align: right;\n",
              "    }\n",
              "</style>\n",
              "<table border=\"1\" class=\"dataframe\">\n",
              "  <thead>\n",
              "    <tr style=\"text-align: right;\">\n",
              "      <th></th>\n",
              "      <th>metro_area</th>\n",
              "      <th>PARAM1_pop_in_target_income</th>\n",
              "      <th>PARAM2_pop_in_target_age</th>\n",
              "      <th>PARAM3_pop_hispanic</th>\n",
              "      <th>metro_area_total_pop</th>\n",
              "    </tr>\n",
              "  </thead>\n",
              "  <tbody>\n",
              "    <tr>\n",
              "      <th>0</th>\n",
              "      <td>Abilene, TX Metro Area</td>\n",
              "      <td>11570.0</td>\n",
              "      <td>183792.0</td>\n",
              "      <td>38892.0</td>\n",
              "      <td>169000.0</td>\n",
              "    </tr>\n",
              "    <tr>\n",
              "      <th>1</th>\n",
              "      <td>Akron, OH Metro Area</td>\n",
              "      <td>52446.0</td>\n",
              "      <td>603500.0</td>\n",
              "      <td>13318.0</td>\n",
              "      <td>703398.0</td>\n",
              "    </tr>\n",
              "    <tr>\n",
              "      <th>2</th>\n",
              "      <td>Albany, GA Metro Area</td>\n",
              "      <td>9529.0</td>\n",
              "      <td>131300.0</td>\n",
              "      <td>4057.0</td>\n",
              "      <td>153776.0</td>\n",
              "    </tr>\n",
              "    <tr>\n",
              "      <th>3</th>\n",
              "      <td>Albany, OR Metro Area</td>\n",
              "      <td>9273.0</td>\n",
              "      <td>94602.0</td>\n",
              "      <td>10483.0</td>\n",
              "      <td>121074.0</td>\n",
              "    </tr>\n",
              "  </tbody>\n",
              "</table>\n",
              "</div>"
            ],
            "text/plain": [
              "               metro_area  ...  metro_area_total_pop\n",
              "0  Abilene, TX Metro Area  ...              169000.0\n",
              "1    Akron, OH Metro Area  ...              703398.0\n",
              "2   Albany, GA Metro Area  ...              153776.0\n",
              "3   Albany, OR Metro Area  ...              121074.0\n",
              "\n",
              "[4 rows x 5 columns]"
            ]
          },
          "metadata": {
            "tags": []
          },
          "execution_count": 145
        }
      ]
    },
    {
      "cell_type": "markdown",
      "metadata": {
        "id": "ANmRRz1hJ94W",
        "colab_type": "text"
      },
      "source": [
        "#Question 1: City with the Highest Population in our Target Income"
      ]
    },
    {
      "cell_type": "code",
      "metadata": {
        "id": "6VJQfnqPIwOy",
        "colab_type": "code",
        "outputId": "ae5668ec-a3de-421a-ebab-408b86f62657",
        "colab": {
          "base_uri": "https://localhost:8080/",
          "height": 168
        }
      },
      "source": [
        "df.sort_values(by=['PARAM1_pop_in_target_income'],ascending=False).head(1)"
      ],
      "execution_count": 0,
      "outputs": [
        {
          "output_type": "execute_result",
          "data": {
            "text/html": [
              "<div>\n",
              "<style scoped>\n",
              "    .dataframe tbody tr th:only-of-type {\n",
              "        vertical-align: middle;\n",
              "    }\n",
              "\n",
              "    .dataframe tbody tr th {\n",
              "        vertical-align: top;\n",
              "    }\n",
              "\n",
              "    .dataframe thead th {\n",
              "        text-align: right;\n",
              "    }\n",
              "</style>\n",
              "<table border=\"1\" class=\"dataframe\">\n",
              "  <thead>\n",
              "    <tr style=\"text-align: right;\">\n",
              "      <th></th>\n",
              "      <th>metro_area</th>\n",
              "      <th>PARAM1_pop_in_target_income</th>\n",
              "      <th>PARAM2_pop_in_target_age</th>\n",
              "      <th>PARAM3_pop_hispanic</th>\n",
              "      <th>metro_area_total_pop</th>\n",
              "    </tr>\n",
              "  </thead>\n",
              "  <tbody>\n",
              "    <tr>\n",
              "      <th>249</th>\n",
              "      <td>New York-Newark-Jersey City, NY-NJ-PA Metro Area</td>\n",
              "      <td>1050888.0</td>\n",
              "      <td>17561652.0</td>\n",
              "      <td>4863602.0</td>\n",
              "      <td>20192042.0</td>\n",
              "    </tr>\n",
              "  </tbody>\n",
              "</table>\n",
              "</div>"
            ],
            "text/plain": [
              "                                           metro_area  ...  metro_area_total_pop\n",
              "249  New York-Newark-Jersey City, NY-NJ-PA Metro Area  ...            20192042.0\n",
              "\n",
              "[1 rows x 5 columns]"
            ]
          },
          "metadata": {
            "tags": []
          },
          "execution_count": 146
        }
      ]
    },
    {
      "cell_type": "markdown",
      "metadata": {
        "id": "SHOU3qFqKJ00",
        "colab_type": "text"
      },
      "source": [
        "#Question 2: City with the Highest Population in our Target Age Range"
      ]
    },
    {
      "cell_type": "code",
      "metadata": {
        "id": "uN38CNlHJecJ",
        "colab_type": "code",
        "outputId": "8a131b1e-01e7-4bd6-f5a2-4a46d25c6d94",
        "colab": {
          "base_uri": "https://localhost:8080/",
          "height": 168
        }
      },
      "source": [
        "df.sort_values(by=['PARAM2_pop_in_target_age'],ascending=False).head(1)"
      ],
      "execution_count": 0,
      "outputs": [
        {
          "output_type": "execute_result",
          "data": {
            "text/html": [
              "<div>\n",
              "<style scoped>\n",
              "    .dataframe tbody tr th:only-of-type {\n",
              "        vertical-align: middle;\n",
              "    }\n",
              "\n",
              "    .dataframe tbody tr th {\n",
              "        vertical-align: top;\n",
              "    }\n",
              "\n",
              "    .dataframe thead th {\n",
              "        text-align: right;\n",
              "    }\n",
              "</style>\n",
              "<table border=\"1\" class=\"dataframe\">\n",
              "  <thead>\n",
              "    <tr style=\"text-align: right;\">\n",
              "      <th></th>\n",
              "      <th>metro_area</th>\n",
              "      <th>PARAM1_pop_in_target_income</th>\n",
              "      <th>PARAM2_pop_in_target_age</th>\n",
              "      <th>PARAM3_pop_hispanic</th>\n",
              "      <th>metro_area_total_pop</th>\n",
              "    </tr>\n",
              "  </thead>\n",
              "  <tbody>\n",
              "    <tr>\n",
              "      <th>249</th>\n",
              "      <td>New York-Newark-Jersey City, NY-NJ-PA Metro Area</td>\n",
              "      <td>1050888.0</td>\n",
              "      <td>17561652.0</td>\n",
              "      <td>4863602.0</td>\n",
              "      <td>20192042.0</td>\n",
              "    </tr>\n",
              "  </tbody>\n",
              "</table>\n",
              "</div>"
            ],
            "text/plain": [
              "                                           metro_area  ...  metro_area_total_pop\n",
              "249  New York-Newark-Jersey City, NY-NJ-PA Metro Area  ...            20192042.0\n",
              "\n",
              "[1 rows x 5 columns]"
            ]
          },
          "metadata": {
            "tags": []
          },
          "execution_count": 147
        }
      ]
    },
    {
      "cell_type": "markdown",
      "metadata": {
        "id": "bXMhNS6WKTXB",
        "colab_type": "text"
      },
      "source": [
        "#Question 3: City with the Highest Hispanic Population"
      ]
    },
    {
      "cell_type": "code",
      "metadata": {
        "id": "1bduaOeyKXwL",
        "colab_type": "code",
        "outputId": "50f76b14-425c-46d6-e39b-9f7c64ecf68f",
        "colab": {
          "base_uri": "https://localhost:8080/",
          "height": 203
        }
      },
      "source": [
        "df.sort_values(by=['PARAM3_pop_hispanic'],ascending=False).head(1)"
      ],
      "execution_count": 0,
      "outputs": [
        {
          "output_type": "execute_result",
          "data": {
            "text/html": [
              "<div>\n",
              "<style scoped>\n",
              "    .dataframe tbody tr th:only-of-type {\n",
              "        vertical-align: middle;\n",
              "    }\n",
              "\n",
              "    .dataframe tbody tr th {\n",
              "        vertical-align: top;\n",
              "    }\n",
              "\n",
              "    .dataframe thead th {\n",
              "        text-align: right;\n",
              "    }\n",
              "</style>\n",
              "<table border=\"1\" class=\"dataframe\">\n",
              "  <thead>\n",
              "    <tr style=\"text-align: right;\">\n",
              "      <th></th>\n",
              "      <th>metro_area</th>\n",
              "      <th>PARAM1_pop_in_target_income</th>\n",
              "      <th>PARAM2_pop_in_target_age</th>\n",
              "      <th>PARAM3_pop_hispanic</th>\n",
              "      <th>metro_area_total_pop</th>\n",
              "    </tr>\n",
              "  </thead>\n",
              "  <tbody>\n",
              "    <tr>\n",
              "      <th>210</th>\n",
              "      <td>Los Angeles-Long Beach-Anaheim, CA Metro Area</td>\n",
              "      <td>700681.0</td>\n",
              "      <td>12585318.0</td>\n",
              "      <td>5972751.0</td>\n",
              "      <td>13261538.0</td>\n",
              "    </tr>\n",
              "  </tbody>\n",
              "</table>\n",
              "</div>"
            ],
            "text/plain": [
              "                                        metro_area  ...  metro_area_total_pop\n",
              "210  Los Angeles-Long Beach-Anaheim, CA Metro Area  ...            13261538.0\n",
              "\n",
              "[1 rows x 5 columns]"
            ]
          },
          "metadata": {
            "tags": []
          },
          "execution_count": 148
        }
      ]
    },
    {
      "cell_type": "markdown",
      "metadata": {
        "id": "pKb5Kt9kzcrR",
        "colab_type": "text"
      },
      "source": [
        "# Calculate the proportion of the population reperesented by our target demographics"
      ]
    },
    {
      "cell_type": "code",
      "metadata": {
        "id": "6wlr0B0LlYGZ",
        "colab_type": "code",
        "outputId": "f18eec2d-54c7-4768-f151-e5feb24496fa",
        "colab": {
          "base_uri": "https://localhost:8080/",
          "height": 213
        }
      },
      "source": [
        "# we calculate the proportion of the population represented by our target market\n",
        "# by didviding our target market population total by the metro area population\n",
        "# we do this for each of our targeting parameters\n",
        "df['income_percent']=df['PARAM1_pop_in_target_income']/df['metro_area_total_pop']\n",
        "df['age_percent']=df['PARAM2_pop_in_target_age']/df['metro_area_total_pop']\n",
        "df['hispanic_percent']=df['PARAM3_pop_hispanic']/df['metro_area_total_pop']\n",
        "# We print out this data to view the results\n",
        "df.head(3)"
      ],
      "execution_count": 0,
      "outputs": [
        {
          "output_type": "execute_result",
          "data": {
            "text/html": [
              "<div>\n",
              "<style scoped>\n",
              "    .dataframe tbody tr th:only-of-type {\n",
              "        vertical-align: middle;\n",
              "    }\n",
              "\n",
              "    .dataframe tbody tr th {\n",
              "        vertical-align: top;\n",
              "    }\n",
              "\n",
              "    .dataframe thead th {\n",
              "        text-align: right;\n",
              "    }\n",
              "</style>\n",
              "<table border=\"1\" class=\"dataframe\">\n",
              "  <thead>\n",
              "    <tr style=\"text-align: right;\">\n",
              "      <th></th>\n",
              "      <th>metro_area</th>\n",
              "      <th>PARAM1_pop_in_target_income</th>\n",
              "      <th>PARAM2_pop_in_target_age</th>\n",
              "      <th>PARAM3_pop_hispanic</th>\n",
              "      <th>metro_area_total_pop</th>\n",
              "      <th>income_percent</th>\n",
              "      <th>age_percent</th>\n",
              "      <th>hispanic_percent</th>\n",
              "    </tr>\n",
              "  </thead>\n",
              "  <tbody>\n",
              "    <tr>\n",
              "      <th>0</th>\n",
              "      <td>Abilene, TX Metro Area</td>\n",
              "      <td>11570.0</td>\n",
              "      <td>183792.0</td>\n",
              "      <td>38892.0</td>\n",
              "      <td>169000.0</td>\n",
              "      <td>0.068462</td>\n",
              "      <td>1.087527</td>\n",
              "      <td>0.230130</td>\n",
              "    </tr>\n",
              "    <tr>\n",
              "      <th>1</th>\n",
              "      <td>Akron, OH Metro Area</td>\n",
              "      <td>52446.0</td>\n",
              "      <td>603500.0</td>\n",
              "      <td>13318.0</td>\n",
              "      <td>703398.0</td>\n",
              "      <td>0.074561</td>\n",
              "      <td>0.857978</td>\n",
              "      <td>0.018934</td>\n",
              "    </tr>\n",
              "    <tr>\n",
              "      <th>2</th>\n",
              "      <td>Albany, GA Metro Area</td>\n",
              "      <td>9529.0</td>\n",
              "      <td>131300.0</td>\n",
              "      <td>4057.0</td>\n",
              "      <td>153776.0</td>\n",
              "      <td>0.061967</td>\n",
              "      <td>0.853839</td>\n",
              "      <td>0.026383</td>\n",
              "    </tr>\n",
              "  </tbody>\n",
              "</table>\n",
              "</div>"
            ],
            "text/plain": [
              "               metro_area  ...  hispanic_percent\n",
              "0  Abilene, TX Metro Area  ...          0.230130\n",
              "1    Akron, OH Metro Area  ...          0.018934\n",
              "2   Albany, GA Metro Area  ...          0.026383\n",
              "\n",
              "[3 rows x 8 columns]"
            ]
          },
          "metadata": {
            "tags": []
          },
          "execution_count": 149
        }
      ]
    },
    {
      "cell_type": "code",
      "metadata": {
        "id": "EKsEGYx0y5P3",
        "colab_type": "code",
        "outputId": "fd190f25-04eb-4c78-a903-88055d01e1a0",
        "colab": {
          "base_uri": "https://localhost:8080/",
          "height": 213
        }
      },
      "source": [
        "# We notice that some of the percentages are incorrect as they are greater that 1 (more than 100%);\n",
        "# Therefore, we subset the data so we only include metro areas where the proportions are acurate (where the proportions are <=1)\n",
        "df=df[df['income_percent']<=1]\n",
        "df=df[df['age_percent']<=1]\n",
        "df=df[df['hispanic_percent']<=1]\n",
        "\n",
        "# Finally, we can create a column with our mean percentage across all three categories \n",
        "# using a simple average of the three proportion columns we just created.\n",
        "df['mean_target_percent']=(df['income_percent']+df['age_percent']+df['hispanic_percent'])/3\n",
        "\n",
        "## View the edited data frame\n",
        "df.head(3)"
      ],
      "execution_count": 0,
      "outputs": [
        {
          "output_type": "execute_result",
          "data": {
            "text/html": [
              "<div>\n",
              "<style scoped>\n",
              "    .dataframe tbody tr th:only-of-type {\n",
              "        vertical-align: middle;\n",
              "    }\n",
              "\n",
              "    .dataframe tbody tr th {\n",
              "        vertical-align: top;\n",
              "    }\n",
              "\n",
              "    .dataframe thead th {\n",
              "        text-align: right;\n",
              "    }\n",
              "</style>\n",
              "<table border=\"1\" class=\"dataframe\">\n",
              "  <thead>\n",
              "    <tr style=\"text-align: right;\">\n",
              "      <th></th>\n",
              "      <th>metro_area</th>\n",
              "      <th>PARAM1_pop_in_target_income</th>\n",
              "      <th>PARAM2_pop_in_target_age</th>\n",
              "      <th>PARAM3_pop_hispanic</th>\n",
              "      <th>metro_area_total_pop</th>\n",
              "      <th>income_percent</th>\n",
              "      <th>age_percent</th>\n",
              "      <th>hispanic_percent</th>\n",
              "      <th>mean_target_percent</th>\n",
              "    </tr>\n",
              "  </thead>\n",
              "  <tbody>\n",
              "    <tr>\n",
              "      <th>1</th>\n",
              "      <td>Akron, OH Metro Area</td>\n",
              "      <td>52446.0</td>\n",
              "      <td>603500.0</td>\n",
              "      <td>13318.0</td>\n",
              "      <td>703398.0</td>\n",
              "      <td>0.074561</td>\n",
              "      <td>0.857978</td>\n",
              "      <td>0.018934</td>\n",
              "      <td>0.317158</td>\n",
              "    </tr>\n",
              "    <tr>\n",
              "      <th>2</th>\n",
              "      <td>Albany, GA Metro Area</td>\n",
              "      <td>9529.0</td>\n",
              "      <td>131300.0</td>\n",
              "      <td>4057.0</td>\n",
              "      <td>153776.0</td>\n",
              "      <td>0.061967</td>\n",
              "      <td>0.853839</td>\n",
              "      <td>0.026383</td>\n",
              "      <td>0.314063</td>\n",
              "    </tr>\n",
              "    <tr>\n",
              "      <th>3</th>\n",
              "      <td>Albany, OR Metro Area</td>\n",
              "      <td>9273.0</td>\n",
              "      <td>94602.0</td>\n",
              "      <td>10483.0</td>\n",
              "      <td>121074.0</td>\n",
              "      <td>0.076590</td>\n",
              "      <td>0.781357</td>\n",
              "      <td>0.086583</td>\n",
              "      <td>0.314843</td>\n",
              "    </tr>\n",
              "  </tbody>\n",
              "</table>\n",
              "</div>"
            ],
            "text/plain": [
              "              metro_area  ...  mean_target_percent\n",
              "1   Akron, OH Metro Area  ...             0.317158\n",
              "2  Albany, GA Metro Area  ...             0.314063\n",
              "3  Albany, OR Metro Area  ...             0.314843\n",
              "\n",
              "[3 rows x 9 columns]"
            ]
          },
          "metadata": {
            "tags": []
          },
          "execution_count": 150
        }
      ]
    },
    {
      "cell_type": "markdown",
      "metadata": {
        "id": "2QEPfU7_lLBz",
        "colab_type": "text"
      },
      "source": [
        "#Question 4: City with the highest mean percentage across all three caregories\n"
      ]
    },
    {
      "cell_type": "markdown",
      "metadata": {
        "id": "W_pb00XMsW8r",
        "colab_type": "text"
      },
      "source": [
        "We can now sort our data frame by the mean_target_percent column to find the metro are with the highest average target population proportion. This may not be the best metric for as doing a simple average of percentages like this does treats all of our parameters the same; we may want to use a weighted average that scales the percentages before averaging based on the degree to which we prioritize each targeting parameter. Secondly, people could belong to multiple if not all of the of the demographic targeting filter we are using here; by using this method, we could create statistics that do not reflect the true in market population proportion.None the less, when we perform this calculation, we find that Jacksonville NC has the highest mean percentage across all three categories."
      ]
    },
    {
      "cell_type": "code",
      "metadata": {
        "id": "MB0KEL1usMxr",
        "colab_type": "code",
        "outputId": "2ac765ca-0125-408c-ed87-0488f463b215",
        "colab": {
          "base_uri": "https://localhost:8080/",
          "height": 117
        }
      },
      "source": [
        "df.sort_values(by=['mean_target_percent'],ascending=False).head(1)"
      ],
      "execution_count": 0,
      "outputs": [
        {
          "output_type": "execute_result",
          "data": {
            "text/html": [
              "<div>\n",
              "<style scoped>\n",
              "    .dataframe tbody tr th:only-of-type {\n",
              "        vertical-align: middle;\n",
              "    }\n",
              "\n",
              "    .dataframe tbody tr th {\n",
              "        vertical-align: top;\n",
              "    }\n",
              "\n",
              "    .dataframe thead th {\n",
              "        text-align: right;\n",
              "    }\n",
              "</style>\n",
              "<table border=\"1\" class=\"dataframe\">\n",
              "  <thead>\n",
              "    <tr style=\"text-align: right;\">\n",
              "      <th></th>\n",
              "      <th>metro_area</th>\n",
              "      <th>PARAM1_pop_in_target_income</th>\n",
              "      <th>PARAM2_pop_in_target_age</th>\n",
              "      <th>PARAM3_pop_hispanic</th>\n",
              "      <th>metro_area_total_pop</th>\n",
              "      <th>income_percent</th>\n",
              "      <th>age_percent</th>\n",
              "      <th>hispanic_percent</th>\n",
              "      <th>mean_target_percent</th>\n",
              "    </tr>\n",
              "  </thead>\n",
              "  <tbody>\n",
              "    <tr>\n",
              "      <th>195</th>\n",
              "      <td>Laredo, TX Metro Area</td>\n",
              "      <td>11460.0</td>\n",
              "      <td>251681.0</td>\n",
              "      <td>257482.0</td>\n",
              "      <td>269624.0</td>\n",
              "      <td>0.042504</td>\n",
              "      <td>0.933452</td>\n",
              "      <td>0.954967</td>\n",
              "      <td>0.643641</td>\n",
              "    </tr>\n",
              "  </tbody>\n",
              "</table>\n",
              "</div>"
            ],
            "text/plain": [
              "                metro_area  ...  mean_target_percent\n",
              "195  Laredo, TX Metro Area  ...             0.643641\n",
              "\n",
              "[1 rows x 9 columns]"
            ]
          },
          "metadata": {
            "tags": []
          },
          "execution_count": 151
        }
      ]
    }
  ]
}